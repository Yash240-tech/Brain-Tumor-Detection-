{
  "cells": [
    {
      "cell_type": "code",
      "execution_count": 1,
      "metadata": {
        "id": "SGUlqsxEHHEZ"
      },
      "outputs": [],
      "source": [
        "import pandas as pd\n",
        "import numpy as np\n",
        "import matplotlib.pyplot as plt\n",
        "import os, shutil\n",
        "import cv2\n",
        "import matplotlib.image as mpimg\n",
        "import seaborn as sns\n",
        "%matplotlib inline\n",
        "plt.style.use('ggplot')"
      ]
    },
    {
      "cell_type": "code",
      "execution_count": null,
      "metadata": {
        "id": "3UTgh2KEIgl1"
      },
      "outputs": [],
      "source": [
        "# Dataset\n",
        "import zipfile\n",
        "\n",
        "z = zipfile.ZipFile('archive imbalanced.zip')\n",
        "\n",
        "z.extractall()"
      ]
    },
    {
      "cell_type": "code",
      "execution_count": 3,
      "metadata": {
        "colab": {
          "base_uri": "https://localhost:8080/"
        },
        "id": "u_aEKKdsIh7F",
        "outputId": "3417cd37-9335-4803-9c4a-5c89d80f14ba"
      },
      "outputs": [
        {
          "name": "stdout",
          "output_type": "stream",
          "text": [
            "All files are renamed in the yes dir.\n"
          ]
        }
      ],
      "source": [
        "folder = 'brain_tumor_dataset/yes/'\n",
        "count = 1\n",
        "\n",
        "for filename in os.listdir(folder):\n",
        "    source = folder + filename\n",
        "    destination = folder + \"Y_\" +str(count)+\".jpg\"\n",
        "    os.rename(source, destination)\n",
        "    count+=1\n",
        "print(\"All files are renamed in the yes dir.\")"
      ]
    },
    {
      "cell_type": "code",
      "execution_count": 4,
      "metadata": {
        "colab": {
          "base_uri": "https://localhost:8080/"
        },
        "id": "n7OY1dkVIjOH",
        "outputId": "63a26a8a-931e-4383-8c46-af4d14657d13"
      },
      "outputs": [
        {
          "name": "stdout",
          "output_type": "stream",
          "text": [
            "All files are renamed in the no dir.\n"
          ]
        }
      ],
      "source": [
        "folder = 'brain_tumor_dataset/no/'\n",
        "count = 1\n",
        "\n",
        "for filename in os.listdir(folder):\n",
        "    source = folder + filename\n",
        "    destination = folder + \"N_\" +str(count)+\".jpg\"\n",
        "    os.rename(source, destination)\n",
        "    count+=1\n",
        "print(\"All files are renamed in the no dir.\")"
      ]
    },
    {
      "cell_type": "code",
      "execution_count": 5,
      "metadata": {
        "id": "U_AoV0x0Ik51"
      },
      "outputs": [],
      "source": [
        "# EDA(Exploratory Data Analysis)"
      ]
    },
    {
      "cell_type": "code",
      "execution_count": 6,
      "metadata": {
        "colab": {
          "base_uri": "https://localhost:8080/"
        },
        "id": "RoOFHBtpImm8",
        "outputId": "6d7420c5-4783-417f-875b-38776c2680f7"
      },
      "outputs": [
        {
          "name": "stdout",
          "output_type": "stream",
          "text": [
            "155\n",
            "98\n"
          ]
        }
      ],
      "source": [
        "listyes = os.listdir(\"brain_tumor_dataset/yes/\")\n",
        "number_files_yes = len(listyes)\n",
        "print(number_files_yes)\n",
        "\n",
        "listno = os.listdir(\"brain_tumor_dataset/no/\")\n",
        "number_files_no = len(listno)\n",
        "print(number_files_no)"
      ]
    },
    {
      "cell_type": "code",
      "execution_count": 7,
      "metadata": {
        "id": "ArVs5k8WIn3o"
      },
      "outputs": [],
      "source": [
        "# Data Augmentation"
      ]
    },
    {
      "cell_type": "code",
      "execution_count": 8,
      "metadata": {
        "id": "yaQupdxfIsZH"
      },
      "outputs": [],
      "source": [
        "import tensorflow as tf\n",
        "from tensorflow.keras.preprocessing.image import ImageDataGenerator\n",
        "from tensorflow.keras.models import Model\n",
        "from tensorflow.keras.layers import Flatten, Dense, Dropout\n",
        "from tensorflow.keras.applications.vgg19 import VGG19\n",
        "from tensorflow.keras.optimizers import SGD, Adam\n",
        "from tensorflow.keras.callbacks import ModelCheckpoint, EarlyStopping, ReduceLROnPlateau"
      ]
    },
    {
      "cell_type": "code",
      "execution_count": 9,
      "metadata": {
        "colab": {
          "base_uri": "https://localhost:8080/"
        },
        "id": "NGhGzj6rIvMb",
        "outputId": "85a390b0-ffcb-4cae-e2b9-fb5b3aad2ac1"
      },
      "outputs": [
        {
          "name": "stdout",
          "output_type": "stream",
          "text": [
            " **Original Data Summary:**\n",
            " **Data Summary**\n",
            " Number of samples: 253\n",
            " 155 positive samples (61.26%)\n",
            " 98 negative samples (38.74%)\n",
            " **Total images: 253**\n",
            "\n",
            "🛠 Augmenting 310 images for augmented_data/yes...\n",
            "🛠 Augmenting 196 images for augmented_data/no...\n",
            " Augmentation took: 0:0:23\n",
            "\n",
            " **Augmented Data Summary:**\n",
            " **Data Summary**\n",
            " Number of samples: 506\n",
            " 310 positive samples (61.26%)\n",
            " 196 negative samples (38.74%)\n",
            " **Total images: 506**\n",
            "\n"
          ]
        }
      ],
      "source": [
        "import os\n",
        "import cv2\n",
        "import time\n",
        "from tensorflow.keras.preprocessing.image import ImageDataGenerator\n",
        "\n",
        "def timing(sec_elapsed):\n",
        "    h = int(sec_elapsed / 3600)\n",
        "    m = int((sec_elapsed % 3600) / 60)\n",
        "    s = sec_elapsed % 60\n",
        "    return f\"{h}:{m}:{s}\"\n",
        "\n",
        "def augmented_data(file_dir, target_count, save_to_dir):\n",
        "    data_gen = ImageDataGenerator(\n",
        "        rotation_range=10,\n",
        "        width_shift_range=0.1,\n",
        "        height_shift_range=0.1,\n",
        "        shear_range=0.1,\n",
        "        brightness_range=(0.3, 1.0),\n",
        "        horizontal_flip=True,\n",
        "        vertical_flip=True,\n",
        "        fill_mode='nearest'\n",
        "    )\n",
        "\n",
        "    image_list = os.listdir(file_dir)\n",
        "    original_count = len(image_list)\n",
        "    os.makedirs(save_to_dir, exist_ok=True)\n",
        "\n",
        "    existing_count = len(os.listdir(save_to_dir))\n",
        "    total_count = existing_count  # Count only images in augmented_data\n",
        "\n",
        "    if total_count >= target_count:\n",
        "        print(f\"✅ {total_count} images already in {save_to_dir}. No augmentation needed.\")\n",
        "        return\n",
        "\n",
        "    additional_needed = target_count - total_count\n",
        "    print(f\"🛠 Augmenting {additional_needed} images for {save_to_dir}...\")\n",
        "\n",
        "    n_generated_samples = additional_needed // original_count\n",
        "    extra_needed = additional_needed % original_count\n",
        "\n",
        "    generated_count = 0\n",
        "    for idx, filename in enumerate(image_list):\n",
        "        if generated_count >= additional_needed:\n",
        "            break\n",
        "\n",
        "        img_path = os.path.join(file_dir, filename)\n",
        "        image = cv2.imread(img_path)\n",
        "        if image is None:\n",
        "            continue  # Skip unreadable images\n",
        "\n",
        "        image = image.reshape((1,) + image.shape)\n",
        "        save_prefix = 'aug_' + os.path.splitext(filename)[0]\n",
        "\n",
        "        samples_to_generate = n_generated_samples + (1 if idx < extra_needed else 0)\n",
        "\n",
        "        i = 0\n",
        "        for batch in data_gen.flow(x=image, batch_size=1, save_to_dir=save_to_dir, save_prefix=save_prefix, save_format=\"jpg\"):\n",
        "            i += 1\n",
        "            generated_count += 1\n",
        "            if i >= samples_to_generate or generated_count >= additional_needed:\n",
        "                break\n",
        "\n",
        "def data_summary(path):\n",
        "    yes_path = os.path.join(path, 'yes')\n",
        "    no_path = os.path.join(path, 'no')\n",
        "\n",
        "    n_pos = len(os.listdir(yes_path)) if os.path.exists(yes_path) else 0\n",
        "    n_neg = len(os.listdir(no_path)) if os.path.exists(no_path) else 0\n",
        "    n_total = n_pos + n_neg\n",
        "\n",
        "    pos_per = (n_pos * 100) / n_total if n_total > 0 else 0\n",
        "    neg_per = (n_neg * 100) / n_total if n_total > 0 else 0\n",
        "\n",
        "    print(f\" **Data Summary**\")\n",
        "    print(f\" Number of samples: {n_total}\")\n",
        "    print(f\" {n_pos} positive samples ({pos_per:.2f}%)\")\n",
        "    print(f\" {n_neg} negative samples ({neg_per:.2f}%)\")\n",
        "    print(f\" **Total images: {n_total}**\\n\")\n",
        "\n",
        "# Define directories\n",
        "yes_path = 'brain_tumor_dataset/yes'\n",
        "no_path = 'brain_tumor_dataset/no'\n",
        "\n",
        "augmented_data_path = 'augmented_data'\n",
        "yes_aug_path = os.path.join(augmented_data_path, 'yes')\n",
        "no_aug_path = os.path.join(augmented_data_path, 'no')\n",
        "\n",
        "os.makedirs(yes_aug_path, exist_ok=True)\n",
        "os.makedirs(no_aug_path, exist_ok=True)\n",
        "\n",
        "print(\" **Original Data Summary:**\")\n",
        "data_summary('brain_tumor_dataset')\n",
        "\n",
        "start_time = time.time()\n",
        "\n",
        "augmented_data(file_dir=yes_path, target_count=310, save_to_dir=yes_aug_path)\n",
        "augmented_data(file_dir=no_path, target_count=196, save_to_dir=no_aug_path)\n",
        "\n",
        "end_time = time.time()\n",
        "print(f\" Augmentation took: {timing(int(end_time - start_time))}\\n\")\n",
        "\n",
        "print(\" **Augmented Data Summary:**\")\n",
        "data_summary(augmented_data_path)\n"
      ]
    },
    {
      "cell_type": "code",
      "execution_count": 10,
      "metadata": {
        "colab": {
          "base_uri": "https://localhost:8080/"
        },
        "id": "j-_1-6ykIxTm",
        "outputId": "8d8fc725-4485-45cd-ac8e-0c77dccf8774"
      },
      "outputs": [
        {
          "name": "stdout",
          "output_type": "stream",
          "text": [
            "310\n",
            "196\n"
          ]
        }
      ],
      "source": [
        "listyes = os.listdir(\"augmented_data/yes/\")\n",
        "number_files_yes = len(listyes)\n",
        "print(number_files_yes)\n",
        "\n",
        "listno = os.listdir(\"augmented_data/no/\")\n",
        "number_files_no = len(listno)\n",
        "print(number_files_no)"
      ]
    },
    {
      "cell_type": "code",
      "execution_count": 11,
      "metadata": {
        "id": "ko1jiKy-I2Xl"
      },
      "outputs": [],
      "source": [
        "# Data Preprocessing\n",
        "# Convert BGR TO GRAY\n",
        "# GaussianBlur\n",
        "# Threshold\n",
        "# Erode\n",
        "# Dilate\n",
        "# Find Contours"
      ]
    },
    {
      "cell_type": "code",
      "execution_count": 12,
      "metadata": {
        "id": "MEgaSRAWI2Zz"
      },
      "outputs": [],
      "source": [
        "import imutils\n",
        "def crop_brain_tumor(image, plot=False):\n",
        "    gray = cv2.cvtColor(image, cv2.COLOR_BGR2GRAY)\n",
        "    gray = cv2.GaussianBlur(gray, (5,5), 0)\n",
        "\n",
        "    thres = cv2.threshold(gray, 45, 255, cv2.THRESH_BINARY)[1]\n",
        "    thres =cv2.erode(thres, None, iterations = 2)\n",
        "    thres = cv2.dilate(thres, None, iterations = 2)\n",
        "\n",
        "    cnts = cv2.findContours(thres.copy(), cv2.RETR_EXTERNAL, cv2.CHAIN_APPROX_SIMPLE)\n",
        "    cnts = imutils.grab_contours(cnts)\n",
        "    c = max(cnts, key = cv2.contourArea)\n",
        "\n",
        "    extLeft = tuple(c[c[:,:,0].argmin()][0])\n",
        "    extRight = tuple(c[c[:,:,0].argmax()][0])\n",
        "    extTop = tuple(c[c[:,:,1].argmin()][0])\n",
        "    extBot = tuple(c[c[:,:,1].argmax()][0])\n",
        "\n",
        "    new_image = image[extTop[1]:extBot[1], extLeft[0]:extRight[0]]\n",
        "\n",
        "    if plot:\n",
        "        plt.figure()\n",
        "        plt.subplot(1, 2, 1)\n",
        "        plt.imshow(image)\n",
        "\n",
        "        plt.tick_params(axis='both', which='both',\n",
        "                        top=False, bottom=False, left=False, right=False,\n",
        "                        labelbottom=False, labeltop=False, labelleft=False, labelright=False)\n",
        "\n",
        "        plt.title('Original Image')\n",
        "\n",
        "        plt.subplot(1, 2, 2)\n",
        "        plt.imshow(new_image)\n",
        "\n",
        "        plt.tick_params(axis='both', which='both',\n",
        "                        top=False, bottom=False, left=False, right=False,\n",
        "                        labelbottom=False, labeltop=False, labelleft=False, labelright=False)\n",
        "\n",
        "        plt.title('Cropped Image')\n",
        "        plt.show()\n",
        "    return new_image"
      ]
    },
    {
      "cell_type": "code",
      "execution_count": 13,
      "metadata": {
        "id": "zuUMWbndI2cN"
      },
      "outputs": [],
      "source": [
        "folder1 = 'augmented_data/no/'\n",
        "folder2 = 'augmented_data/yes/'\n",
        "\n",
        "for filename in os.listdir(folder1):\n",
        "    img = cv2.imread(folder1 + filename)\n",
        "    img = crop_brain_tumor(img, False)\n",
        "    cv2.imwrite(folder1 + filename, img)\n",
        "for filename in os.listdir(folder2):\n",
        "    img = cv2.imread(folder2 + filename)\n",
        "    img = crop_brain_tumor(img, False)\n",
        "    cv2.imwrite(folder2 + filename, img)"
      ]
    },
    {
      "cell_type": "code",
      "execution_count": 14,
      "metadata": {
        "id": "USP74XUgI2eP"
      },
      "outputs": [],
      "source": [
        "# image loading"
      ]
    },
    {
      "cell_type": "code",
      "execution_count": 15,
      "metadata": {
        "id": "mwtWhlthI2gf"
      },
      "outputs": [],
      "source": [
        "from sklearn.utils import shuffle\n",
        "def load_data(dir_list, image_size):\n",
        "    X=[]\n",
        "    y=[]\n",
        "\n",
        "    image_width, image_height=image_size\n",
        "\n",
        "    for directory in dir_list:\n",
        "        for filename in os.listdir(directory):\n",
        "            image = cv2.imread(directory + '/' + filename)\n",
        "            image = crop_brain_tumor(image, plot=False)\n",
        "            image = cv2.resize(image, dsize=(image_width, image_height), interpolation = cv2.INTER_CUBIC)\n",
        "            image = image/255.00\n",
        "            X.append(image)\n",
        "            if directory[-3:] == \"yes\":\n",
        "                y.append(1)\n",
        "            else:\n",
        "                y.append(0)\n",
        "    X=np.array(X)\n",
        "    y=np.array(y)\n",
        "\n",
        "    X,y = shuffle(X,y)\n",
        "    print(f\"Number of example is : {len(X)}\")\n",
        "    print(f\"X SHAPE is : {X.shape}\")\n",
        "    print(f\"y SHAPE is : {y.shape}\")\n",
        "    return X,y\n"
      ]
    },
    {
      "cell_type": "code",
      "execution_count": 16,
      "metadata": {
        "colab": {
          "base_uri": "https://localhost:8080/"
        },
        "id": "7EFUm8lAI2ie",
        "outputId": "af132903-0057-4c1a-a618-104c1d87e3d9"
      },
      "outputs": [
        {
          "name": "stdout",
          "output_type": "stream",
          "text": [
            "Number of example is : 506\n",
            "X SHAPE is : (506, 240, 240, 3)\n",
            "y SHAPE is : (506,)\n"
          ]
        }
      ],
      "source": [
        "augmented_path = 'augmented_data/'\n",
        "augmeneted_yes = augmented_path + 'yes'\n",
        "augmeneted_no = augmented_path + 'no'\n",
        "\n",
        "IMAGE_WIDTH, IMAGE_HEIGHT = (240,240)\n",
        "\n",
        "X,y = load_data([augmeneted_yes, augmeneted_no], (IMAGE_WIDTH, IMAGE_HEIGHT))"
      ]
    },
    {
      "cell_type": "code",
      "execution_count": 17,
      "metadata": {
        "id": "8GP-Hn2fI2k0"
      },
      "outputs": [],
      "source": [
        "def plot_sample_images(X, y, n=50):\n",
        "\n",
        "    for label in [0,1]:\n",
        "        images = X[np.argwhere(y == label)]\n",
        "        n_images = images[:n]\n",
        "\n",
        "        columns_n = 10\n",
        "        rows_n = int(n/ columns_n)\n",
        "\n",
        "        plt.figure(figsize=(20, 10))\n",
        "\n",
        "        i = 1\n",
        "        for image in n_images:\n",
        "            plt.subplot(rows_n, columns_n, i)\n",
        "            plt.imshow(image[0])\n",
        "\n",
        "            plt.tick_params(axis='both', which='both',\n",
        "                            top=False, bottom=False, left=False, right=False,\n",
        "                            labelbottom=False, labeltop=False, labelleft=False,\n",
        "                            labelright=False)\n",
        "\n",
        "            i += 1\n",
        "\n",
        "        label_to_str = lambda label: \"Yes\" if label == 1 else \"No\"\n",
        "        plt.suptitle(f\"Brain Tumor: {label_to_str(label)}\")\n",
        "        plt.show()"
      ]
    },
    {
      "cell_type": "code",
      "execution_count": 18,
      "metadata": {
        "id": "7TFV8xSdI2oU"
      },
      "outputs": [],
      "source": [
        "# Data Spliting\n",
        "# Train\n",
        "# Test\n",
        "# Validation"
      ]
    },
    {
      "cell_type": "code",
      "execution_count": 19,
      "metadata": {
        "id": "E-F2w9oDJFbR"
      },
      "outputs": [],
      "source": [
        "if not os.path.isdir('tumorous_and_nontumorous'):\n",
        "    base_dir = 'tumorous_and_nontumorous'\n",
        "    os.mkdir(base_dir)"
      ]
    },
    {
      "cell_type": "code",
      "execution_count": 20,
      "metadata": {
        "id": "GgBzxSmgJGyY"
      },
      "outputs": [],
      "source": [
        "if not os.path.isdir('tumorous_and_nontumorous/train'):\n",
        "    train_dir = os.path.join(base_dir , 'train')\n",
        "    os.mkdir(train_dir)\n",
        "if not os.path.isdir('tumorous_and_nontumorous/test'):\n",
        "    test_dir = os.path.join(base_dir , 'test')\n",
        "    os.mkdir(test_dir)\n",
        "if not os.path.isdir('tumorous_and_nontumorous/valid'):\n",
        "    valid_dir = os.path.join(base_dir , 'valid')\n",
        "    os.mkdir(valid_dir)\n",
        "\n",
        "if not os.path.isdir('tumorous_and_nontumorous/train/tumorous'):\n",
        "    infected_train_dir = os.path.join(train_dir, 'tumorous')\n",
        "    os.mkdir(infected_train_dir)\n",
        "if not os.path.isdir('tumorous_and_nontumorous/test/tumorous'):\n",
        "    infected_test_dir = os.path.join(test_dir, 'tumorous')\n",
        "    os.mkdir(infected_test_dir)\n",
        "if not os.path.isdir('tumorous_and_nontumorous/valid/tumorous'):\n",
        "    infected_valid_dir = os.path.join(valid_dir, 'tumorous')\n",
        "    os.mkdir(infected_valid_dir)\n",
        "\n",
        "if not os.path.isdir('tumorous_and_nontumorous/train/nontumorous'):\n",
        "    healthy_train_dir = os.path.join(train_dir, 'nontumorous')\n",
        "    os.mkdir(healthy_train_dir)\n",
        "if not os.path.isdir('tumorous_and_nontumorous/test/nontumorous'):\n",
        "    healthy_test_dir = os.path.join(test_dir, 'nontumorous')\n",
        "    os.mkdir(healthy_test_dir)\n",
        "if not os.path.isdir('tumorous_and_nontumorous/valid/nontumorous'):\n",
        "    healthy_valid_dir = os.path.join(valid_dir, 'nontumorous')\n",
        "    os.mkdir(healthy_valid_dir)"
      ]
    },
    {
      "cell_type": "code",
      "execution_count": 21,
      "metadata": {
        "id": "CC4qUGuoJITh"
      },
      "outputs": [],
      "source": [
        "original_dataset_tumorours = os.path.join('augmented_data','yes/')\n",
        "original_dataset_nontumorours = os.path.join('augmented_data','no/')"
      ]
    },
    {
      "cell_type": "code",
      "execution_count": 22,
      "metadata": {
        "id": "aS5kH8-BJJsv"
      },
      "outputs": [],
      "source": [
        "# 80% 10% 10% - YES"
      ]
    },
    {
      "cell_type": "code",
      "execution_count": 23,
      "metadata": {
        "id": "kIrTYLDnJL9H"
      },
      "outputs": [],
      "source": [
        "files = os.listdir('augmented_data/yes/')\n",
        "fnames = []\n",
        "for i in range(0,247):\n",
        "    fnames.append(files[i])\n",
        "for fname in fnames:\n",
        "    src = os.path.join(original_dataset_tumorours, fname)\n",
        "    dst = os.path.join(infected_train_dir, fname)\n",
        "    shutil.copyfile(src, dst)\n",
        "\n",
        "files = os.listdir('augmented_data/yes/')\n",
        "fnames = []\n",
        "for i in range(248,278):\n",
        "    fnames.append(files[i])\n",
        "for fname in fnames:\n",
        "    src = os.path.join(original_dataset_tumorours, fname)\n",
        "    dst = os.path.join(infected_test_dir, fname)\n",
        "    shutil.copyfile(src, dst)\n",
        "\n",
        "files = os.listdir('augmented_data/yes/')\n",
        "fnames = []\n",
        "for i in range(279,310):\n",
        "    fnames.append(files[i])\n",
        "for fname in fnames:\n",
        "    src = os.path.join(original_dataset_tumorours, fname)\n",
        "    dst = os.path.join(infected_valid_dir, fname)\n",
        "    shutil.copyfile(src, dst)"
      ]
    },
    {
      "cell_type": "code",
      "execution_count": 24,
      "metadata": {
        "id": "yjTmnEzhJS3Z"
      },
      "outputs": [],
      "source": [
        "# 80% 10% 10% - NO"
      ]
    },
    {
      "cell_type": "code",
      "execution_count": 25,
      "metadata": {
        "id": "CfmQcLjbJTPl"
      },
      "outputs": [],
      "source": [
        "files = os.listdir('augmented_data/no/')\n",
        "fnames = []\n",
        "for i in range(0,155):\n",
        "    fnames.append(files[i])\n",
        "for fname in fnames:\n",
        "    src = os.path.join(original_dataset_nontumorours, fname)\n",
        "    dst = os.path.join(healthy_train_dir, fname)\n",
        "    shutil.copyfile(src, dst)\n",
        "\n",
        "\n",
        "files = os.listdir('augmented_data/no/')\n",
        "fnames = []\n",
        "for i in range(156,175):\n",
        "    fnames.append(files[i])\n",
        "for fname in fnames:\n",
        "    src = os.path.join(original_dataset_nontumorours, fname)\n",
        "    dst = os.path.join(healthy_test_dir, fname)\n",
        "    shutil.copyfile(src, dst)\n",
        "\n",
        "files = os.listdir('augmented_data/no/')\n",
        "fnames = []\n",
        "for i in range(176,196):\n",
        "    fnames.append(files[i])\n",
        "for fname in fnames:\n",
        "    src = os.path.join(original_dataset_nontumorours, fname)\n",
        "    dst = os.path.join(healthy_valid_dir, fname)\n",
        "    shutil.copyfile(src, dst)"
      ]
    },
    {
      "cell_type": "code",
      "execution_count": 26,
      "metadata": {
        "id": "5E5CAZw7JUxN"
      },
      "outputs": [],
      "source": [
        "# Model Buliding"
      ]
    },
    {
      "cell_type": "code",
      "execution_count": 27,
      "metadata": {
        "id": "fEtbJKSAJWSI"
      },
      "outputs": [],
      "source": [
        "train_datagen = ImageDataGenerator(rescale = 1./255,\n",
        "                  horizontal_flip=0.4,\n",
        "                  vertical_flip=0.4,\n",
        "                  rotation_range=40,\n",
        "                  shear_range=0.2,\n",
        "                  width_shift_range=0.4,\n",
        "                  height_shift_range=0.4,\n",
        "                  fill_mode='nearest')\n",
        "test_data_gen = ImageDataGenerator(rescale=1.0/255)\n",
        "valid_data_gen = ImageDataGenerator(rescale=1.0/255)"
      ]
    },
    {
      "cell_type": "code",
      "execution_count": 28,
      "metadata": {
        "colab": {
          "base_uri": "https://localhost:8080/"
        },
        "id": "F83uBXxCJYVQ",
        "outputId": "e9a82abd-56eb-44ab-92db-82f669e02986"
      },
      "outputs": [
        {
          "name": "stdout",
          "output_type": "stream",
          "text": [
            "Found 402 images belonging to 2 classes.\n"
          ]
        }
      ],
      "source": [
        "train_generator = train_datagen.flow_from_directory('tumorous_and_nontumorous/train/', batch_size=32, target_size=(240,240), class_mode='categorical',shuffle=True, seed = 42, color_mode = 'rgb')"
      ]
    },
    {
      "cell_type": "code",
      "execution_count": 29,
      "metadata": {
        "colab": {
          "base_uri": "https://localhost:8080/"
        },
        "id": "vXhqs6EXJaMF",
        "outputId": "31137570-fb92-42ee-e1ce-e11a5c6f0f27"
      },
      "outputs": [
        {
          "name": "stdout",
          "output_type": "stream",
          "text": [
            "Found 49 images belonging to 2 classes.\n"
          ]
        }
      ],
      "source": [
        "test_generator = train_datagen.flow_from_directory('tumorous_and_nontumorous/test/', batch_size=32, target_size=(240,240), class_mode='categorical',shuffle=True, seed = 42, color_mode = 'rgb')"
      ]
    },
    {
      "cell_type": "code",
      "execution_count": 30,
      "metadata": {
        "colab": {
          "base_uri": "https://localhost:8080/"
        },
        "id": "mZBlJOyNJbms",
        "outputId": "2714270c-5f0d-4479-a824-7c4be7bcc177"
      },
      "outputs": [
        {
          "name": "stdout",
          "output_type": "stream",
          "text": [
            "Found 51 images belonging to 2 classes.\n"
          ]
        }
      ],
      "source": [
        "valid_generator = train_datagen.flow_from_directory('tumorous_and_nontumorous/valid/', batch_size=32, target_size=(240,240), class_mode='categorical',shuffle=True, seed = 42, color_mode = 'rgb')"
      ]
    },
    {
      "cell_type": "code",
      "execution_count": 31,
      "metadata": {
        "id": "c453jIk3Jdde"
      },
      "outputs": [],
      "source": [
        "class_labels = train_generator.class_indices\n",
        "class_name = {value: key for (key,value) in class_labels.items()}"
      ]
    },
    {
      "cell_type": "code",
      "execution_count": 32,
      "metadata": {
        "colab": {
          "base_uri": "https://localhost:8080/"
        },
        "id": "7t7476UBJfIY",
        "outputId": "79cd123a-a780-4436-b714-d36036e805e5"
      },
      "outputs": [
        {
          "data": {
            "text/plain": [
              "{0: 'nontumorous', 1: 'tumorous'}"
            ]
          },
          "execution_count": 32,
          "metadata": {},
          "output_type": "execute_result"
        }
      ],
      "source": [
        "class_name"
      ]
    },
    {
      "cell_type": "code",
      "execution_count": 33,
      "metadata": {
        "colab": {
          "base_uri": "https://localhost:8080/",
          "height": 140
        },
        "id": "y0b9uoEaJgv0",
        "outputId": "8a93dd4a-fe8e-4fa3-a374-49dc36f81080"
      },
      "outputs": [
        {
          "data": {
            "application/vnd.google.colaboratory.intrinsic+json": {
              "type": "string"
            },
            "text/plain": [
              "'\\n#Best Hyperparameters: {\\'learning_rate\\': 2.8706295492775003e-05, \\'dense_1\\': 3584, \\'dense_2\\': 1024, \\'optimizer\\':\\xa0\\'Adam\\'}\\n\\nimport optuna\\nimport tensorflow as tf\\nfrom tensorflow.keras.applications import VGG19\\nfrom tensorflow.keras.models import Model\\nfrom tensorflow.keras.layers import Dense, Dropout, Flatten, BatchNormalization\\nfrom tensorflow.keras.optimizers import Adam, AdamW, SGD\\nfrom tensorflow.keras.callbacks import EarlyStopping, ReduceLROnPlateau\\nfrom tensorflow.keras.regularizers import l2\\nfrom optuna.integration import TFKerasPruningCallback\\nfrom tensorflow.keras.preprocessing.image import ImageDataGenerator\\n\\n# Data Augmentation to prevent overfitting\\ntrain_datagen = ImageDataGenerator(\\n    rescale=1./255,\\n    rotation_range=20,\\n    width_shift_range=0.2,\\n    height_shift_range=0.2,\\n    shear_range=0.2,\\n    zoom_range=0.2,\\n    horizontal_flip=True,\\n    fill_mode=\\'nearest\\'\\n)\\n\\nvalid_datagen = ImageDataGenerator(rescale=1./255)\\n\\ntrain_generator = train_datagen.flow_from_directory(\\n    \\'/content/tumorous_and_nontumorous/train\\',\\n    target_size=(240, 240),\\n    batch_size=32,\\n    class_mode=\\'categorical\\'\\n)\\n\\nvalid_generator = valid_datagen.flow_from_directory(\\n    \\'/content/tumorous_and_nontumorous/valid\\',\\n    target_size=(240, 240),\\n    batch_size=32,\\n    class_mode=\\'categorical\\'\\n)\\n\\n# Optuna Objective Function\\ndef objective(trial):\\n    # Hyperparameter Search Space\\n    lr = trial.suggest_loguniform(\\'learning_rate\\', 1e-5, 5e-3)\\n    dropout_rate = 0.5  # Fixed\\n    dense_1 = trial.suggest_int(\\'dense_1\\', 1024, 4608, step=512)\\n    dense_2 = trial.suggest_int(\\'dense_2\\', 256, 2048, step=256)\\n    l2_lambda = 1e-4  # Fixed\\n    optimizer_choice = trial.suggest_categorical(\\'optimizer\\', [\\'SGD\\', \\'Adam\\', \\'AdamW\\'])\\n\\n    # Load Pretrained Model\\n    base_model = VGG19(input_shape=(240,240,3), include_top=False, weights=\\'imagenet\\')\\n\\n    # Unfreeze last 3 layers for fine-tuning\\n    for layer in base_model.layers[-3:]:\\n        layer.trainable = True\\n\\n    # Model Definition\\n    x = Flatten()(base_model.output)\\n    x = Dense(dense_1, activation=\\'relu\\', kernel_regularizer=l2(l2_lambda))(x)\\n    x = BatchNormalization()(x)\\n    x = Dropout(dropout_rate)(x)\\n    x = Dense(dense_2, activation=\\'relu\\', kernel_regularizer=l2(l2_lambda))(x)\\n    x = Dropout(dropout_rate / 2)(x)\\n    output = Dense(2, activation=\\'softmax\\')(x)\\n\\n    model = Model(inputs=base_model.input, outputs=output)\\n\\n    # Choose Optimizer\\n    if optimizer_choice == \"SGD\":\\n        optimizer = SGD(learning_rate=lr, momentum=0.9, nesterov=True)\\n    elif optimizer_choice == \"Adam\":\\n        optimizer = Adam(learning_rate=lr)\\n    else:\\n        optimizer = AdamW(learning_rate=lr)\\n\\n    # Compile Model with metrics\\n    model.compile(loss=\\'categorical_crossentropy\\', optimizer=optimizer, metrics=[\\'accuracy\\', \\'Recall\\'])\\n\\n    # Callbacks\\n    es = EarlyStopping(monitor=\\'val_loss\\', patience=4, restore_best_weights=True, verbose=1)\\n    lr_reduce = ReduceLROnPlateau(monitor=\\'val_loss\\', patience=2, factor=0.3, min_lr=1e-6, verbose=1)\\n    pruning_cb = TFKerasPruningCallback(trial, \\'val_accuracy\\')\\n\\n    # Train Model\\n    history = model.fit(\\n        train_generator,\\n        epochs=10,\\n        validation_data=valid_generator,\\n        callbacks=[es, lr_reduce, pruning_cb]\\n    )\\n\\n    # Debug: Print available metrics\\n    print(\"Logged metrics:\", history.history.keys())\\n\\n    val_acc = max(history.history.get(\\'val_accuracy\\', [0]))\\n    val_recall = max(history.history.get(\\'val_recall\\', [0]))  # Prevent KeyError\\n\\n    print(f\"Trial {trial.number}: Accuracy = {val_acc}, Recall = {val_recall}\")\\n\\n    return val_recall  # Optimizing for recall\\n\\n# Run Optuna Study\\nstudy = optuna.create_study(direction=\\'maximize\\', sampler=optuna.samplers.TPESampler())\\nstudy.optimize(objective, n_trials=2)\\n\\n# Best Hyperparameters\\nbest_params = study.best_params\\nprint(\"Best Hyperparameters:\", best_params)\\nTrial 0: Accuracy = 0.686274528503418, Recall = 0\\nTrial 1: Accuracy = 0.7058823704719543, Recall = 0\\nBest Hyperparameters: {\\'learning_rate\\': 2.8706295492775003e-05, \\'dense_1\\': 3584, \\'dense_2\\': 1024, \\'optimizer\\': \\'Adam\\'}\\n\\n'"
            ]
          },
          "execution_count": 33,
          "metadata": {},
          "output_type": "execute_result"
        }
      ],
      "source": [
        "\"\"\"\n",
        "#Best Hyperparameters: {'learning_rate': 2.8706295492775003e-05, 'dense_1': 3584, 'dense_2': 1024, 'optimizer': 'Adam'}\n",
        "\n",
        "import optuna\n",
        "import tensorflow as tf\n",
        "from tensorflow.keras.applications import VGG19\n",
        "from tensorflow.keras.models import Model\n",
        "from tensorflow.keras.layers import Dense, Dropout, Flatten, BatchNormalization\n",
        "from tensorflow.keras.optimizers import Adam, AdamW, SGD\n",
        "from tensorflow.keras.callbacks import EarlyStopping, ReduceLROnPlateau\n",
        "from tensorflow.keras.regularizers import l2\n",
        "from optuna.integration import TFKerasPruningCallback\n",
        "from tensorflow.keras.preprocessing.image import ImageDataGenerator\n",
        "\n",
        "# Data Augmentation to prevent overfitting\n",
        "train_datagen = ImageDataGenerator(\n",
        "    rescale=1./255,\n",
        "    rotation_range=20,\n",
        "    width_shift_range=0.2,\n",
        "    height_shift_range=0.2,\n",
        "    shear_range=0.2,\n",
        "    zoom_range=0.2,\n",
        "    horizontal_flip=True,\n",
        "    fill_mode='nearest'\n",
        ")\n",
        "\n",
        "valid_datagen = ImageDataGenerator(rescale=1./255)\n",
        "\n",
        "train_generator = train_datagen.flow_from_directory(\n",
        "    '/content/tumorous_and_nontumorous/train',\n",
        "    target_size=(240, 240),\n",
        "    batch_size=32,\n",
        "    class_mode='categorical'\n",
        ")\n",
        "\n",
        "valid_generator = valid_datagen.flow_from_directory(\n",
        "    '/content/tumorous_and_nontumorous/valid',\n",
        "    target_size=(240, 240),\n",
        "    batch_size=32,\n",
        "    class_mode='categorical'\n",
        ")\n",
        "\n",
        "# Optuna Objective Function\n",
        "def objective(trial):\n",
        "    # Hyperparameter Search Space\n",
        "    lr = trial.suggest_loguniform('learning_rate', 1e-5, 5e-3)\n",
        "    dropout_rate = 0.5  # Fixed\n",
        "    dense_1 = trial.suggest_int('dense_1', 1024, 4608, step=512)\n",
        "    dense_2 = trial.suggest_int('dense_2', 256, 2048, step=256)\n",
        "    l2_lambda = 1e-4  # Fixed\n",
        "    optimizer_choice = trial.suggest_categorical('optimizer', ['SGD', 'Adam', 'AdamW'])\n",
        "\n",
        "    # Load Pretrained Model\n",
        "    base_model = VGG19(input_shape=(240,240,3), include_top=False, weights='imagenet')\n",
        "\n",
        "    # Unfreeze last 3 layers for fine-tuning\n",
        "    for layer in base_model.layers[-3:]:\n",
        "        layer.trainable = True\n",
        "\n",
        "    # Model Definition\n",
        "    x = Flatten()(base_model.output)\n",
        "    x = Dense(dense_1, activation='relu', kernel_regularizer=l2(l2_lambda))(x)\n",
        "    x = BatchNormalization()(x)\n",
        "    x = Dropout(dropout_rate)(x)\n",
        "    x = Dense(dense_2, activation='relu', kernel_regularizer=l2(l2_lambda))(x)\n",
        "    x = Dropout(dropout_rate / 2)(x)\n",
        "    output = Dense(2, activation='softmax')(x)\n",
        "\n",
        "    model = Model(inputs=base_model.input, outputs=output)\n",
        "\n",
        "    # Choose Optimizer\n",
        "    if optimizer_choice == \"SGD\":\n",
        "        optimizer = SGD(learning_rate=lr, momentum=0.9, nesterov=True)\n",
        "    elif optimizer_choice == \"Adam\":\n",
        "        optimizer = Adam(learning_rate=lr)\n",
        "    else:\n",
        "        optimizer = AdamW(learning_rate=lr)\n",
        "\n",
        "    # Compile Model with metrics\n",
        "    model.compile(loss='categorical_crossentropy', optimizer=optimizer, metrics=['accuracy', 'Recall'])\n",
        "\n",
        "    # Callbacks\n",
        "    es = EarlyStopping(monitor='val_loss', patience=4, restore_best_weights=True, verbose=1)\n",
        "    lr_reduce = ReduceLROnPlateau(monitor='val_loss', patience=2, factor=0.3, min_lr=1e-6, verbose=1)\n",
        "    pruning_cb = TFKerasPruningCallback(trial, 'val_accuracy')\n",
        "\n",
        "    # Train Model\n",
        "    history = model.fit(\n",
        "        train_generator,\n",
        "        epochs=10,\n",
        "        validation_data=valid_generator,\n",
        "        callbacks=[es, lr_reduce, pruning_cb]\n",
        "    )\n",
        "\n",
        "    # Debug: Print available metrics\n",
        "    print(\"Logged metrics:\", history.history.keys())\n",
        "\n",
        "    val_acc = max(history.history.get('val_accuracy', [0]))\n",
        "    val_recall = max(history.history.get('val_recall', [0]))  # Prevent KeyError\n",
        "\n",
        "    print(f\"Trial {trial.number}: Accuracy = {val_acc}, Recall = {val_recall}\")\n",
        "\n",
        "    return val_recall  # Optimizing for recall\n",
        "\n",
        "# Run Optuna Study\n",
        "study = optuna.create_study(direction='maximize', sampler=optuna.samplers.TPESampler())\n",
        "study.optimize(objective, n_trials=2)\n",
        "\n",
        "# Best Hyperparameters\n",
        "best_params = study.best_params\n",
        "print(\"Best Hyperparameters:\", best_params)\n",
        "Trial 0: Accuracy = 0.686274528503418, Recall = 0\n",
        "Trial 1: Accuracy = 0.7058823704719543, Recall = 0\n",
        "Best Hyperparameters: {'learning_rate': 2.8706295492775003e-05, 'dense_1': 3584, 'dense_2': 1024, 'optimizer': 'Adam'}\n",
        "\n",
        "\"\"\""
      ]
    },
    {
      "cell_type": "code",
      "execution_count": 34,
      "metadata": {
        "colab": {
          "base_uri": "https://localhost:8080/",
          "height": 1000
        },
        "id": "1MaxUConJ8dH",
        "outputId": "3fb8fbb5-9ac7-48a6-a1d3-b82c156715a6"
      },
      "outputs": [
        {
          "name": "stdout",
          "output_type": "stream",
          "text": [
            "Downloading data from https://storage.googleapis.com/tensorflow/keras-applications/vgg19/vgg19_weights_tf_dim_ordering_tf_kernels_notop.h5\n",
            "\u001b[1m80134624/80134624\u001b[0m \u001b[32m━━━━━━━━━━━━━━━━━━━━\u001b[0m\u001b[37m\u001b[0m \u001b[1m4s\u001b[0m 0us/step\n"
          ]
        },
        {
          "data": {
            "text/html": [
              "<pre style=\"white-space:pre;overflow-x:auto;line-height:normal;font-family:Menlo,'DejaVu Sans Mono',consolas,'Courier New',monospace\"><span style=\"font-weight: bold\">Model: \"functional\"</span>\n",
              "</pre>\n"
            ],
            "text/plain": [
              "\u001b[1mModel: \"functional\"\u001b[0m\n"
            ]
          },
          "metadata": {},
          "output_type": "display_data"
        },
        {
          "data": {
            "text/html": [
              "<pre style=\"white-space:pre;overflow-x:auto;line-height:normal;font-family:Menlo,'DejaVu Sans Mono',consolas,'Courier New',monospace\">┏━━━━━━━━━━━━━━━━━━━━━━━━━━━━━━━━━━━━━━┳━━━━━━━━━━━━━━━━━━━━━━━━━━━━━┳━━━━━━━━━━━━━━━━━┓\n",
              "┃<span style=\"font-weight: bold\"> Layer (type)                         </span>┃<span style=\"font-weight: bold\"> Output Shape                </span>┃<span style=\"font-weight: bold\">         Param # </span>┃\n",
              "┡━━━━━━━━━━━━━━━━━━━━━━━━━━━━━━━━━━━━━━╇━━━━━━━━━━━━━━━━━━━━━━━━━━━━━╇━━━━━━━━━━━━━━━━━┩\n",
              "│ input_layer (<span style=\"color: #0087ff; text-decoration-color: #0087ff\">InputLayer</span>)             │ (<span style=\"color: #00d7ff; text-decoration-color: #00d7ff\">None</span>, <span style=\"color: #00af00; text-decoration-color: #00af00\">240</span>, <span style=\"color: #00af00; text-decoration-color: #00af00\">240</span>, <span style=\"color: #00af00; text-decoration-color: #00af00\">3</span>)         │               <span style=\"color: #00af00; text-decoration-color: #00af00\">0</span> │\n",
              "├──────────────────────────────────────┼─────────────────────────────┼─────────────────┤\n",
              "│ block1_conv1 (<span style=\"color: #0087ff; text-decoration-color: #0087ff\">Conv2D</span>)                │ (<span style=\"color: #00d7ff; text-decoration-color: #00d7ff\">None</span>, <span style=\"color: #00af00; text-decoration-color: #00af00\">240</span>, <span style=\"color: #00af00; text-decoration-color: #00af00\">240</span>, <span style=\"color: #00af00; text-decoration-color: #00af00\">64</span>)        │           <span style=\"color: #00af00; text-decoration-color: #00af00\">1,792</span> │\n",
              "├──────────────────────────────────────┼─────────────────────────────┼─────────────────┤\n",
              "│ block1_conv2 (<span style=\"color: #0087ff; text-decoration-color: #0087ff\">Conv2D</span>)                │ (<span style=\"color: #00d7ff; text-decoration-color: #00d7ff\">None</span>, <span style=\"color: #00af00; text-decoration-color: #00af00\">240</span>, <span style=\"color: #00af00; text-decoration-color: #00af00\">240</span>, <span style=\"color: #00af00; text-decoration-color: #00af00\">64</span>)        │          <span style=\"color: #00af00; text-decoration-color: #00af00\">36,928</span> │\n",
              "├──────────────────────────────────────┼─────────────────────────────┼─────────────────┤\n",
              "│ block1_pool (<span style=\"color: #0087ff; text-decoration-color: #0087ff\">MaxPooling2D</span>)           │ (<span style=\"color: #00d7ff; text-decoration-color: #00d7ff\">None</span>, <span style=\"color: #00af00; text-decoration-color: #00af00\">120</span>, <span style=\"color: #00af00; text-decoration-color: #00af00\">120</span>, <span style=\"color: #00af00; text-decoration-color: #00af00\">64</span>)        │               <span style=\"color: #00af00; text-decoration-color: #00af00\">0</span> │\n",
              "├──────────────────────────────────────┼─────────────────────────────┼─────────────────┤\n",
              "│ block2_conv1 (<span style=\"color: #0087ff; text-decoration-color: #0087ff\">Conv2D</span>)                │ (<span style=\"color: #00d7ff; text-decoration-color: #00d7ff\">None</span>, <span style=\"color: #00af00; text-decoration-color: #00af00\">120</span>, <span style=\"color: #00af00; text-decoration-color: #00af00\">120</span>, <span style=\"color: #00af00; text-decoration-color: #00af00\">128</span>)       │          <span style=\"color: #00af00; text-decoration-color: #00af00\">73,856</span> │\n",
              "├──────────────────────────────────────┼─────────────────────────────┼─────────────────┤\n",
              "│ block2_conv2 (<span style=\"color: #0087ff; text-decoration-color: #0087ff\">Conv2D</span>)                │ (<span style=\"color: #00d7ff; text-decoration-color: #00d7ff\">None</span>, <span style=\"color: #00af00; text-decoration-color: #00af00\">120</span>, <span style=\"color: #00af00; text-decoration-color: #00af00\">120</span>, <span style=\"color: #00af00; text-decoration-color: #00af00\">128</span>)       │         <span style=\"color: #00af00; text-decoration-color: #00af00\">147,584</span> │\n",
              "├──────────────────────────────────────┼─────────────────────────────┼─────────────────┤\n",
              "│ block2_pool (<span style=\"color: #0087ff; text-decoration-color: #0087ff\">MaxPooling2D</span>)           │ (<span style=\"color: #00d7ff; text-decoration-color: #00d7ff\">None</span>, <span style=\"color: #00af00; text-decoration-color: #00af00\">60</span>, <span style=\"color: #00af00; text-decoration-color: #00af00\">60</span>, <span style=\"color: #00af00; text-decoration-color: #00af00\">128</span>)         │               <span style=\"color: #00af00; text-decoration-color: #00af00\">0</span> │\n",
              "├──────────────────────────────────────┼─────────────────────────────┼─────────────────┤\n",
              "│ block3_conv1 (<span style=\"color: #0087ff; text-decoration-color: #0087ff\">Conv2D</span>)                │ (<span style=\"color: #00d7ff; text-decoration-color: #00d7ff\">None</span>, <span style=\"color: #00af00; text-decoration-color: #00af00\">60</span>, <span style=\"color: #00af00; text-decoration-color: #00af00\">60</span>, <span style=\"color: #00af00; text-decoration-color: #00af00\">256</span>)         │         <span style=\"color: #00af00; text-decoration-color: #00af00\">295,168</span> │\n",
              "├──────────────────────────────────────┼─────────────────────────────┼─────────────────┤\n",
              "│ block3_conv2 (<span style=\"color: #0087ff; text-decoration-color: #0087ff\">Conv2D</span>)                │ (<span style=\"color: #00d7ff; text-decoration-color: #00d7ff\">None</span>, <span style=\"color: #00af00; text-decoration-color: #00af00\">60</span>, <span style=\"color: #00af00; text-decoration-color: #00af00\">60</span>, <span style=\"color: #00af00; text-decoration-color: #00af00\">256</span>)         │         <span style=\"color: #00af00; text-decoration-color: #00af00\">590,080</span> │\n",
              "├──────────────────────────────────────┼─────────────────────────────┼─────────────────┤\n",
              "│ block3_conv3 (<span style=\"color: #0087ff; text-decoration-color: #0087ff\">Conv2D</span>)                │ (<span style=\"color: #00d7ff; text-decoration-color: #00d7ff\">None</span>, <span style=\"color: #00af00; text-decoration-color: #00af00\">60</span>, <span style=\"color: #00af00; text-decoration-color: #00af00\">60</span>, <span style=\"color: #00af00; text-decoration-color: #00af00\">256</span>)         │         <span style=\"color: #00af00; text-decoration-color: #00af00\">590,080</span> │\n",
              "├──────────────────────────────────────┼─────────────────────────────┼─────────────────┤\n",
              "│ block3_conv4 (<span style=\"color: #0087ff; text-decoration-color: #0087ff\">Conv2D</span>)                │ (<span style=\"color: #00d7ff; text-decoration-color: #00d7ff\">None</span>, <span style=\"color: #00af00; text-decoration-color: #00af00\">60</span>, <span style=\"color: #00af00; text-decoration-color: #00af00\">60</span>, <span style=\"color: #00af00; text-decoration-color: #00af00\">256</span>)         │         <span style=\"color: #00af00; text-decoration-color: #00af00\">590,080</span> │\n",
              "├──────────────────────────────────────┼─────────────────────────────┼─────────────────┤\n",
              "│ block3_pool (<span style=\"color: #0087ff; text-decoration-color: #0087ff\">MaxPooling2D</span>)           │ (<span style=\"color: #00d7ff; text-decoration-color: #00d7ff\">None</span>, <span style=\"color: #00af00; text-decoration-color: #00af00\">30</span>, <span style=\"color: #00af00; text-decoration-color: #00af00\">30</span>, <span style=\"color: #00af00; text-decoration-color: #00af00\">256</span>)         │               <span style=\"color: #00af00; text-decoration-color: #00af00\">0</span> │\n",
              "├──────────────────────────────────────┼─────────────────────────────┼─────────────────┤\n",
              "│ block4_conv1 (<span style=\"color: #0087ff; text-decoration-color: #0087ff\">Conv2D</span>)                │ (<span style=\"color: #00d7ff; text-decoration-color: #00d7ff\">None</span>, <span style=\"color: #00af00; text-decoration-color: #00af00\">30</span>, <span style=\"color: #00af00; text-decoration-color: #00af00\">30</span>, <span style=\"color: #00af00; text-decoration-color: #00af00\">512</span>)         │       <span style=\"color: #00af00; text-decoration-color: #00af00\">1,180,160</span> │\n",
              "├──────────────────────────────────────┼─────────────────────────────┼─────────────────┤\n",
              "│ block4_conv2 (<span style=\"color: #0087ff; text-decoration-color: #0087ff\">Conv2D</span>)                │ (<span style=\"color: #00d7ff; text-decoration-color: #00d7ff\">None</span>, <span style=\"color: #00af00; text-decoration-color: #00af00\">30</span>, <span style=\"color: #00af00; text-decoration-color: #00af00\">30</span>, <span style=\"color: #00af00; text-decoration-color: #00af00\">512</span>)         │       <span style=\"color: #00af00; text-decoration-color: #00af00\">2,359,808</span> │\n",
              "├──────────────────────────────────────┼─────────────────────────────┼─────────────────┤\n",
              "│ block4_conv3 (<span style=\"color: #0087ff; text-decoration-color: #0087ff\">Conv2D</span>)                │ (<span style=\"color: #00d7ff; text-decoration-color: #00d7ff\">None</span>, <span style=\"color: #00af00; text-decoration-color: #00af00\">30</span>, <span style=\"color: #00af00; text-decoration-color: #00af00\">30</span>, <span style=\"color: #00af00; text-decoration-color: #00af00\">512</span>)         │       <span style=\"color: #00af00; text-decoration-color: #00af00\">2,359,808</span> │\n",
              "├──────────────────────────────────────┼─────────────────────────────┼─────────────────┤\n",
              "│ block4_conv4 (<span style=\"color: #0087ff; text-decoration-color: #0087ff\">Conv2D</span>)                │ (<span style=\"color: #00d7ff; text-decoration-color: #00d7ff\">None</span>, <span style=\"color: #00af00; text-decoration-color: #00af00\">30</span>, <span style=\"color: #00af00; text-decoration-color: #00af00\">30</span>, <span style=\"color: #00af00; text-decoration-color: #00af00\">512</span>)         │       <span style=\"color: #00af00; text-decoration-color: #00af00\">2,359,808</span> │\n",
              "├──────────────────────────────────────┼─────────────────────────────┼─────────────────┤\n",
              "│ block4_pool (<span style=\"color: #0087ff; text-decoration-color: #0087ff\">MaxPooling2D</span>)           │ (<span style=\"color: #00d7ff; text-decoration-color: #00d7ff\">None</span>, <span style=\"color: #00af00; text-decoration-color: #00af00\">15</span>, <span style=\"color: #00af00; text-decoration-color: #00af00\">15</span>, <span style=\"color: #00af00; text-decoration-color: #00af00\">512</span>)         │               <span style=\"color: #00af00; text-decoration-color: #00af00\">0</span> │\n",
              "├──────────────────────────────────────┼─────────────────────────────┼─────────────────┤\n",
              "│ block5_conv1 (<span style=\"color: #0087ff; text-decoration-color: #0087ff\">Conv2D</span>)                │ (<span style=\"color: #00d7ff; text-decoration-color: #00d7ff\">None</span>, <span style=\"color: #00af00; text-decoration-color: #00af00\">15</span>, <span style=\"color: #00af00; text-decoration-color: #00af00\">15</span>, <span style=\"color: #00af00; text-decoration-color: #00af00\">512</span>)         │       <span style=\"color: #00af00; text-decoration-color: #00af00\">2,359,808</span> │\n",
              "├──────────────────────────────────────┼─────────────────────────────┼─────────────────┤\n",
              "│ block5_conv2 (<span style=\"color: #0087ff; text-decoration-color: #0087ff\">Conv2D</span>)                │ (<span style=\"color: #00d7ff; text-decoration-color: #00d7ff\">None</span>, <span style=\"color: #00af00; text-decoration-color: #00af00\">15</span>, <span style=\"color: #00af00; text-decoration-color: #00af00\">15</span>, <span style=\"color: #00af00; text-decoration-color: #00af00\">512</span>)         │       <span style=\"color: #00af00; text-decoration-color: #00af00\">2,359,808</span> │\n",
              "├──────────────────────────────────────┼─────────────────────────────┼─────────────────┤\n",
              "│ block5_conv3 (<span style=\"color: #0087ff; text-decoration-color: #0087ff\">Conv2D</span>)                │ (<span style=\"color: #00d7ff; text-decoration-color: #00d7ff\">None</span>, <span style=\"color: #00af00; text-decoration-color: #00af00\">15</span>, <span style=\"color: #00af00; text-decoration-color: #00af00\">15</span>, <span style=\"color: #00af00; text-decoration-color: #00af00\">512</span>)         │       <span style=\"color: #00af00; text-decoration-color: #00af00\">2,359,808</span> │\n",
              "├──────────────────────────────────────┼─────────────────────────────┼─────────────────┤\n",
              "│ block5_conv4 (<span style=\"color: #0087ff; text-decoration-color: #0087ff\">Conv2D</span>)                │ (<span style=\"color: #00d7ff; text-decoration-color: #00d7ff\">None</span>, <span style=\"color: #00af00; text-decoration-color: #00af00\">15</span>, <span style=\"color: #00af00; text-decoration-color: #00af00\">15</span>, <span style=\"color: #00af00; text-decoration-color: #00af00\">512</span>)         │       <span style=\"color: #00af00; text-decoration-color: #00af00\">2,359,808</span> │\n",
              "├──────────────────────────────────────┼─────────────────────────────┼─────────────────┤\n",
              "│ block5_pool (<span style=\"color: #0087ff; text-decoration-color: #0087ff\">MaxPooling2D</span>)           │ (<span style=\"color: #00d7ff; text-decoration-color: #00d7ff\">None</span>, <span style=\"color: #00af00; text-decoration-color: #00af00\">7</span>, <span style=\"color: #00af00; text-decoration-color: #00af00\">7</span>, <span style=\"color: #00af00; text-decoration-color: #00af00\">512</span>)           │               <span style=\"color: #00af00; text-decoration-color: #00af00\">0</span> │\n",
              "├──────────────────────────────────────┼─────────────────────────────┼─────────────────┤\n",
              "│ flatten (<span style=\"color: #0087ff; text-decoration-color: #0087ff\">Flatten</span>)                    │ (<span style=\"color: #00d7ff; text-decoration-color: #00d7ff\">None</span>, <span style=\"color: #00af00; text-decoration-color: #00af00\">25088</span>)               │               <span style=\"color: #00af00; text-decoration-color: #00af00\">0</span> │\n",
              "├──────────────────────────────────────┼─────────────────────────────┼─────────────────┤\n",
              "│ dense (<span style=\"color: #0087ff; text-decoration-color: #0087ff\">Dense</span>)                        │ (<span style=\"color: #00d7ff; text-decoration-color: #00d7ff\">None</span>, <span style=\"color: #00af00; text-decoration-color: #00af00\">3584</span>)                │      <span style=\"color: #00af00; text-decoration-color: #00af00\">89,918,976</span> │\n",
              "├──────────────────────────────────────┼─────────────────────────────┼─────────────────┤\n",
              "│ dropout (<span style=\"color: #0087ff; text-decoration-color: #0087ff\">Dropout</span>)                    │ (<span style=\"color: #00d7ff; text-decoration-color: #00d7ff\">None</span>, <span style=\"color: #00af00; text-decoration-color: #00af00\">3584</span>)                │               <span style=\"color: #00af00; text-decoration-color: #00af00\">0</span> │\n",
              "├──────────────────────────────────────┼─────────────────────────────┼─────────────────┤\n",
              "│ dense_1 (<span style=\"color: #0087ff; text-decoration-color: #0087ff\">Dense</span>)                      │ (<span style=\"color: #00d7ff; text-decoration-color: #00d7ff\">None</span>, <span style=\"color: #00af00; text-decoration-color: #00af00\">1024</span>)                │       <span style=\"color: #00af00; text-decoration-color: #00af00\">3,671,040</span> │\n",
              "├──────────────────────────────────────┼─────────────────────────────┼─────────────────┤\n",
              "│ dense_2 (<span style=\"color: #0087ff; text-decoration-color: #0087ff\">Dense</span>)                      │ (<span style=\"color: #00d7ff; text-decoration-color: #00d7ff\">None</span>, <span style=\"color: #00af00; text-decoration-color: #00af00\">2</span>)                   │           <span style=\"color: #00af00; text-decoration-color: #00af00\">2,050</span> │\n",
              "└──────────────────────────────────────┴─────────────────────────────┴─────────────────┘\n",
              "</pre>\n"
            ],
            "text/plain": [
              "┏━━━━━━━━━━━━━━━━━━━━━━━━━━━━━━━━━━━━━━┳━━━━━━━━━━━━━━━━━━━━━━━━━━━━━┳━━━━━━━━━━━━━━━━━┓\n",
              "┃\u001b[1m \u001b[0m\u001b[1mLayer (type)                        \u001b[0m\u001b[1m \u001b[0m┃\u001b[1m \u001b[0m\u001b[1mOutput Shape               \u001b[0m\u001b[1m \u001b[0m┃\u001b[1m \u001b[0m\u001b[1m        Param #\u001b[0m\u001b[1m \u001b[0m┃\n",
              "┡━━━━━━━━━━━━━━━━━━━━━━━━━━━━━━━━━━━━━━╇━━━━━━━━━━━━━━━━━━━━━━━━━━━━━╇━━━━━━━━━━━━━━━━━┩\n",
              "│ input_layer (\u001b[38;5;33mInputLayer\u001b[0m)             │ (\u001b[38;5;45mNone\u001b[0m, \u001b[38;5;34m240\u001b[0m, \u001b[38;5;34m240\u001b[0m, \u001b[38;5;34m3\u001b[0m)         │               \u001b[38;5;34m0\u001b[0m │\n",
              "├──────────────────────────────────────┼─────────────────────────────┼─────────────────┤\n",
              "│ block1_conv1 (\u001b[38;5;33mConv2D\u001b[0m)                │ (\u001b[38;5;45mNone\u001b[0m, \u001b[38;5;34m240\u001b[0m, \u001b[38;5;34m240\u001b[0m, \u001b[38;5;34m64\u001b[0m)        │           \u001b[38;5;34m1,792\u001b[0m │\n",
              "├──────────────────────────────────────┼─────────────────────────────┼─────────────────┤\n",
              "│ block1_conv2 (\u001b[38;5;33mConv2D\u001b[0m)                │ (\u001b[38;5;45mNone\u001b[0m, \u001b[38;5;34m240\u001b[0m, \u001b[38;5;34m240\u001b[0m, \u001b[38;5;34m64\u001b[0m)        │          \u001b[38;5;34m36,928\u001b[0m │\n",
              "├──────────────────────────────────────┼─────────────────────────────┼─────────────────┤\n",
              "│ block1_pool (\u001b[38;5;33mMaxPooling2D\u001b[0m)           │ (\u001b[38;5;45mNone\u001b[0m, \u001b[38;5;34m120\u001b[0m, \u001b[38;5;34m120\u001b[0m, \u001b[38;5;34m64\u001b[0m)        │               \u001b[38;5;34m0\u001b[0m │\n",
              "├──────────────────────────────────────┼─────────────────────────────┼─────────────────┤\n",
              "│ block2_conv1 (\u001b[38;5;33mConv2D\u001b[0m)                │ (\u001b[38;5;45mNone\u001b[0m, \u001b[38;5;34m120\u001b[0m, \u001b[38;5;34m120\u001b[0m, \u001b[38;5;34m128\u001b[0m)       │          \u001b[38;5;34m73,856\u001b[0m │\n",
              "├──────────────────────────────────────┼─────────────────────────────┼─────────────────┤\n",
              "│ block2_conv2 (\u001b[38;5;33mConv2D\u001b[0m)                │ (\u001b[38;5;45mNone\u001b[0m, \u001b[38;5;34m120\u001b[0m, \u001b[38;5;34m120\u001b[0m, \u001b[38;5;34m128\u001b[0m)       │         \u001b[38;5;34m147,584\u001b[0m │\n",
              "├──────────────────────────────────────┼─────────────────────────────┼─────────────────┤\n",
              "│ block2_pool (\u001b[38;5;33mMaxPooling2D\u001b[0m)           │ (\u001b[38;5;45mNone\u001b[0m, \u001b[38;5;34m60\u001b[0m, \u001b[38;5;34m60\u001b[0m, \u001b[38;5;34m128\u001b[0m)         │               \u001b[38;5;34m0\u001b[0m │\n",
              "├──────────────────────────────────────┼─────────────────────────────┼─────────────────┤\n",
              "│ block3_conv1 (\u001b[38;5;33mConv2D\u001b[0m)                │ (\u001b[38;5;45mNone\u001b[0m, \u001b[38;5;34m60\u001b[0m, \u001b[38;5;34m60\u001b[0m, \u001b[38;5;34m256\u001b[0m)         │         \u001b[38;5;34m295,168\u001b[0m │\n",
              "├──────────────────────────────────────┼─────────────────────────────┼─────────────────┤\n",
              "│ block3_conv2 (\u001b[38;5;33mConv2D\u001b[0m)                │ (\u001b[38;5;45mNone\u001b[0m, \u001b[38;5;34m60\u001b[0m, \u001b[38;5;34m60\u001b[0m, \u001b[38;5;34m256\u001b[0m)         │         \u001b[38;5;34m590,080\u001b[0m │\n",
              "├──────────────────────────────────────┼─────────────────────────────┼─────────────────┤\n",
              "│ block3_conv3 (\u001b[38;5;33mConv2D\u001b[0m)                │ (\u001b[38;5;45mNone\u001b[0m, \u001b[38;5;34m60\u001b[0m, \u001b[38;5;34m60\u001b[0m, \u001b[38;5;34m256\u001b[0m)         │         \u001b[38;5;34m590,080\u001b[0m │\n",
              "├──────────────────────────────────────┼─────────────────────────────┼─────────────────┤\n",
              "│ block3_conv4 (\u001b[38;5;33mConv2D\u001b[0m)                │ (\u001b[38;5;45mNone\u001b[0m, \u001b[38;5;34m60\u001b[0m, \u001b[38;5;34m60\u001b[0m, \u001b[38;5;34m256\u001b[0m)         │         \u001b[38;5;34m590,080\u001b[0m │\n",
              "├──────────────────────────────────────┼─────────────────────────────┼─────────────────┤\n",
              "│ block3_pool (\u001b[38;5;33mMaxPooling2D\u001b[0m)           │ (\u001b[38;5;45mNone\u001b[0m, \u001b[38;5;34m30\u001b[0m, \u001b[38;5;34m30\u001b[0m, \u001b[38;5;34m256\u001b[0m)         │               \u001b[38;5;34m0\u001b[0m │\n",
              "├──────────────────────────────────────┼─────────────────────────────┼─────────────────┤\n",
              "│ block4_conv1 (\u001b[38;5;33mConv2D\u001b[0m)                │ (\u001b[38;5;45mNone\u001b[0m, \u001b[38;5;34m30\u001b[0m, \u001b[38;5;34m30\u001b[0m, \u001b[38;5;34m512\u001b[0m)         │       \u001b[38;5;34m1,180,160\u001b[0m │\n",
              "├──────────────────────────────────────┼─────────────────────────────┼─────────────────┤\n",
              "│ block4_conv2 (\u001b[38;5;33mConv2D\u001b[0m)                │ (\u001b[38;5;45mNone\u001b[0m, \u001b[38;5;34m30\u001b[0m, \u001b[38;5;34m30\u001b[0m, \u001b[38;5;34m512\u001b[0m)         │       \u001b[38;5;34m2,359,808\u001b[0m │\n",
              "├──────────────────────────────────────┼─────────────────────────────┼─────────────────┤\n",
              "│ block4_conv3 (\u001b[38;5;33mConv2D\u001b[0m)                │ (\u001b[38;5;45mNone\u001b[0m, \u001b[38;5;34m30\u001b[0m, \u001b[38;5;34m30\u001b[0m, \u001b[38;5;34m512\u001b[0m)         │       \u001b[38;5;34m2,359,808\u001b[0m │\n",
              "├──────────────────────────────────────┼─────────────────────────────┼─────────────────┤\n",
              "│ block4_conv4 (\u001b[38;5;33mConv2D\u001b[0m)                │ (\u001b[38;5;45mNone\u001b[0m, \u001b[38;5;34m30\u001b[0m, \u001b[38;5;34m30\u001b[0m, \u001b[38;5;34m512\u001b[0m)         │       \u001b[38;5;34m2,359,808\u001b[0m │\n",
              "├──────────────────────────────────────┼─────────────────────────────┼─────────────────┤\n",
              "│ block4_pool (\u001b[38;5;33mMaxPooling2D\u001b[0m)           │ (\u001b[38;5;45mNone\u001b[0m, \u001b[38;5;34m15\u001b[0m, \u001b[38;5;34m15\u001b[0m, \u001b[38;5;34m512\u001b[0m)         │               \u001b[38;5;34m0\u001b[0m │\n",
              "├──────────────────────────────────────┼─────────────────────────────┼─────────────────┤\n",
              "│ block5_conv1 (\u001b[38;5;33mConv2D\u001b[0m)                │ (\u001b[38;5;45mNone\u001b[0m, \u001b[38;5;34m15\u001b[0m, \u001b[38;5;34m15\u001b[0m, \u001b[38;5;34m512\u001b[0m)         │       \u001b[38;5;34m2,359,808\u001b[0m │\n",
              "├──────────────────────────────────────┼─────────────────────────────┼─────────────────┤\n",
              "│ block5_conv2 (\u001b[38;5;33mConv2D\u001b[0m)                │ (\u001b[38;5;45mNone\u001b[0m, \u001b[38;5;34m15\u001b[0m, \u001b[38;5;34m15\u001b[0m, \u001b[38;5;34m512\u001b[0m)         │       \u001b[38;5;34m2,359,808\u001b[0m │\n",
              "├──────────────────────────────────────┼─────────────────────────────┼─────────────────┤\n",
              "│ block5_conv3 (\u001b[38;5;33mConv2D\u001b[0m)                │ (\u001b[38;5;45mNone\u001b[0m, \u001b[38;5;34m15\u001b[0m, \u001b[38;5;34m15\u001b[0m, \u001b[38;5;34m512\u001b[0m)         │       \u001b[38;5;34m2,359,808\u001b[0m │\n",
              "├──────────────────────────────────────┼─────────────────────────────┼─────────────────┤\n",
              "│ block5_conv4 (\u001b[38;5;33mConv2D\u001b[0m)                │ (\u001b[38;5;45mNone\u001b[0m, \u001b[38;5;34m15\u001b[0m, \u001b[38;5;34m15\u001b[0m, \u001b[38;5;34m512\u001b[0m)         │       \u001b[38;5;34m2,359,808\u001b[0m │\n",
              "├──────────────────────────────────────┼─────────────────────────────┼─────────────────┤\n",
              "│ block5_pool (\u001b[38;5;33mMaxPooling2D\u001b[0m)           │ (\u001b[38;5;45mNone\u001b[0m, \u001b[38;5;34m7\u001b[0m, \u001b[38;5;34m7\u001b[0m, \u001b[38;5;34m512\u001b[0m)           │               \u001b[38;5;34m0\u001b[0m │\n",
              "├──────────────────────────────────────┼─────────────────────────────┼─────────────────┤\n",
              "│ flatten (\u001b[38;5;33mFlatten\u001b[0m)                    │ (\u001b[38;5;45mNone\u001b[0m, \u001b[38;5;34m25088\u001b[0m)               │               \u001b[38;5;34m0\u001b[0m │\n",
              "├──────────────────────────────────────┼─────────────────────────────┼─────────────────┤\n",
              "│ dense (\u001b[38;5;33mDense\u001b[0m)                        │ (\u001b[38;5;45mNone\u001b[0m, \u001b[38;5;34m3584\u001b[0m)                │      \u001b[38;5;34m89,918,976\u001b[0m │\n",
              "├──────────────────────────────────────┼─────────────────────────────┼─────────────────┤\n",
              "│ dropout (\u001b[38;5;33mDropout\u001b[0m)                    │ (\u001b[38;5;45mNone\u001b[0m, \u001b[38;5;34m3584\u001b[0m)                │               \u001b[38;5;34m0\u001b[0m │\n",
              "├──────────────────────────────────────┼─────────────────────────────┼─────────────────┤\n",
              "│ dense_1 (\u001b[38;5;33mDense\u001b[0m)                      │ (\u001b[38;5;45mNone\u001b[0m, \u001b[38;5;34m1024\u001b[0m)                │       \u001b[38;5;34m3,671,040\u001b[0m │\n",
              "├──────────────────────────────────────┼─────────────────────────────┼─────────────────┤\n",
              "│ dense_2 (\u001b[38;5;33mDense\u001b[0m)                      │ (\u001b[38;5;45mNone\u001b[0m, \u001b[38;5;34m2\u001b[0m)                   │           \u001b[38;5;34m2,050\u001b[0m │\n",
              "└──────────────────────────────────────┴─────────────────────────────┴─────────────────┘\n"
            ]
          },
          "metadata": {},
          "output_type": "display_data"
        },
        {
          "data": {
            "text/html": [
              "<pre style=\"white-space:pre;overflow-x:auto;line-height:normal;font-family:Menlo,'DejaVu Sans Mono',consolas,'Courier New',monospace\"><span style=\"font-weight: bold\"> Total params: </span><span style=\"color: #00af00; text-decoration-color: #00af00\">113,616,450</span> (433.41 MB)\n",
              "</pre>\n"
            ],
            "text/plain": [
              "\u001b[1m Total params: \u001b[0m\u001b[38;5;34m113,616,450\u001b[0m (433.41 MB)\n"
            ]
          },
          "metadata": {},
          "output_type": "display_data"
        },
        {
          "data": {
            "text/html": [
              "<pre style=\"white-space:pre;overflow-x:auto;line-height:normal;font-family:Menlo,'DejaVu Sans Mono',consolas,'Courier New',monospace\"><span style=\"font-weight: bold\"> Trainable params: </span><span style=\"color: #00af00; text-decoration-color: #00af00\">93,592,066</span> (357.03 MB)\n",
              "</pre>\n"
            ],
            "text/plain": [
              "\u001b[1m Trainable params: \u001b[0m\u001b[38;5;34m93,592,066\u001b[0m (357.03 MB)\n"
            ]
          },
          "metadata": {},
          "output_type": "display_data"
        },
        {
          "data": {
            "text/html": [
              "<pre style=\"white-space:pre;overflow-x:auto;line-height:normal;font-family:Menlo,'DejaVu Sans Mono',consolas,'Courier New',monospace\"><span style=\"font-weight: bold\"> Non-trainable params: </span><span style=\"color: #00af00; text-decoration-color: #00af00\">20,024,384</span> (76.39 MB)\n",
              "</pre>\n"
            ],
            "text/plain": [
              "\u001b[1m Non-trainable params: \u001b[0m\u001b[38;5;34m20,024,384\u001b[0m (76.39 MB)\n"
            ]
          },
          "metadata": {},
          "output_type": "display_data"
        },
        {
          "name": "stderr",
          "output_type": "stream",
          "text": [
            "/usr/local/lib/python3.11/dist-packages/keras/src/trainers/data_adapters/py_dataset_adapter.py:121: UserWarning: Your `PyDataset` class should call `super().__init__(**kwargs)` in its constructor. `**kwargs` can include `workers`, `use_multiprocessing`, `max_queue_size`. Do not pass these arguments to `fit()`, as they will be ignored.\n",
            "  self._warn_if_super_not_called()\n"
          ]
        },
        {
          "name": "stdout",
          "output_type": "stream",
          "text": [
            "Epoch 1/20\n",
            "\u001b[1m13/32\u001b[0m \u001b[32m━━━━━━━━\u001b[0m\u001b[37m━━━━━━━━━━━━\u001b[0m \u001b[1m23s\u001b[0m 1s/step - accuracy: 0.5158 - loss: 1.3442 - recall: 0.5158"
          ]
        },
        {
          "name": "stderr",
          "output_type": "stream",
          "text": [
            "/usr/local/lib/python3.11/dist-packages/keras/src/trainers/epoch_iterator.py:107: UserWarning: Your input ran out of data; interrupting training. Make sure that your dataset or generator can generate at least `steps_per_epoch * epochs` batches. You may need to use the `.repeat()` function when building your dataset.\n",
            "  self._interrupted_warning()\n"
          ]
        },
        {
          "name": "stdout",
          "output_type": "stream",
          "text": [
            "\n",
            "Epoch 1: val_loss improved from inf to 1.06431, saving model to model.h5\n"
          ]
        },
        {
          "name": "stderr",
          "output_type": "stream",
          "text": [
            "WARNING:absl:You are saving your model as an HDF5 file via `model.save()` or `keras.saving.save_model(model)`. This file format is considered legacy. We recommend using instead the native Keras format, e.g. `model.save('my_model.keras')` or `keras.saving.save_model(model, 'my_model.keras')`. \n"
          ]
        },
        {
          "name": "stdout",
          "output_type": "stream",
          "text": [
            "\b\b\b\b\b\b\b\b\b\b\b\b\b\b\b\b\b\b\b\b\b\b\b\b\b\b\b\b\b\b\b\b\b\b\b\b\b\b\b\b\b\b\b\b\b\b\b\b\b\b\b\b\b\b\b\b\b\b\b\b\b\b\b\b\b\b\b\b\b\b\b\b\b\b\b\b\b\b\b\b\b\b\b\b\b\b\b\b\b\r\u001b[1m32/32\u001b[0m \u001b[32m━━━━━━━━━━━━━━━━━━━━\u001b[0m\u001b[37m\u001b[0m \u001b[1m53s\u001b[0m 1s/step - accuracy: 0.5094 - loss: 1.2762 - recall: 0.5094 - val_accuracy: 0.6078 - val_loss: 1.0643 - val_recall: 0.6078\n",
            "Epoch 2/20\n",
            "\u001b[1m13/32\u001b[0m \u001b[32m━━━━━━━━\u001b[0m\u001b[37m━━━━━━━━━━━━\u001b[0m \u001b[1m10s\u001b[0m 558ms/step - accuracy: 0.5834 - loss: 0.8630 - recall: 0.5834\n",
            "Epoch 2: val_loss improved from 1.06431 to 0.60614, saving model to model.h5\n"
          ]
        },
        {
          "name": "stderr",
          "output_type": "stream",
          "text": [
            "WARNING:absl:You are saving your model as an HDF5 file via `model.save()` or `keras.saving.save_model(model)`. This file format is considered legacy. We recommend using instead the native Keras format, e.g. `model.save('my_model.keras')` or `keras.saving.save_model(model, 'my_model.keras')`. \n"
          ]
        },
        {
          "name": "stdout",
          "output_type": "stream",
          "text": [
            "\b\b\b\b\b\b\b\b\b\b\b\b\b\b\b\b\b\b\b\b\b\b\b\b\b\b\b\b\b\b\b\b\b\b\b\b\b\b\b\b\b\b\b\b\b\b\b\b\b\b\b\b\b\b\b\b\b\b\b\b\b\b\b\b\b\b\b\b\b\b\b\b\b\b\b\b\b\b\b\b\b\b\b\b\b\b\b\b\b\b\b\b\r\u001b[1m32/32\u001b[0m \u001b[32m━━━━━━━━━━━━━━━━━━━━\u001b[0m\u001b[37m\u001b[0m \u001b[1m19s\u001b[0m 610ms/step - accuracy: 0.5782 - loss: 0.8003 - recall: 0.5782 - val_accuracy: 0.6863 - val_loss: 0.6061 - val_recall: 0.6863\n",
            "Epoch 3/20\n",
            "\u001b[1m13/32\u001b[0m \u001b[32m━━━━━━━━\u001b[0m\u001b[37m━━━━━━━━━━━━\u001b[0m \u001b[1m9s\u001b[0m 482ms/step - accuracy: 0.6793 - loss: 0.6412 - recall: 0.6793\n",
            "Epoch 3: val_loss did not improve from 0.60614\n",
            "\u001b[1m32/32\u001b[0m \u001b[32m━━━━━━━━━━━━━━━━━━━━\u001b[0m\u001b[37m\u001b[0m \u001b[1m9s\u001b[0m 269ms/step - accuracy: 0.6511 - loss: 0.6668 - recall: 0.6511 - val_accuracy: 0.5098 - val_loss: 0.6831 - val_recall: 0.5098\n",
            "Epoch 4/20\n",
            "\u001b[1m13/32\u001b[0m \u001b[32m━━━━━━━━\u001b[0m\u001b[37m━━━━━━━━━━━━\u001b[0m \u001b[1m8s\u001b[0m 469ms/step - accuracy: 0.5997 - loss: 0.6587 - recall: 0.5997\n",
            "Epoch 4: val_loss did not improve from 0.60614\n",
            "\u001b[1m32/32\u001b[0m \u001b[32m━━━━━━━━━━━━━━━━━━━━\u001b[0m\u001b[37m\u001b[0m \u001b[1m8s\u001b[0m 211ms/step - accuracy: 0.6217 - loss: 0.6542 - recall: 0.6217 - val_accuracy: 0.6078 - val_loss: 0.6463 - val_recall: 0.6078\n",
            "Epoch 5/20\n",
            "\u001b[1m13/32\u001b[0m \u001b[32m━━━━━━━━\u001b[0m\u001b[37m━━━━━━━━━━━━\u001b[0m \u001b[1m8s\u001b[0m 473ms/step - accuracy: 0.6416 - loss: 0.6246 - recall: 0.6416\n",
            "Epoch 5: val_loss did not improve from 0.60614\n",
            "\u001b[1m32/32\u001b[0m \u001b[32m━━━━━━━━━━━━━━━━━━━━\u001b[0m\u001b[37m\u001b[0m \u001b[1m10s\u001b[0m 211ms/step - accuracy: 0.6491 - loss: 0.6251 - recall: 0.6491 - val_accuracy: 0.6863 - val_loss: 0.6123 - val_recall: 0.6863\n",
            "Epoch 6/20\n",
            "\u001b[1m13/32\u001b[0m \u001b[32m━━━━━━━━\u001b[0m\u001b[37m━━━━━━━━━━━━\u001b[0m \u001b[1m10s\u001b[0m 553ms/step - accuracy: 0.6408 - loss: 0.6352 - recall: 0.6408\n",
            "Epoch 6: val_loss improved from 0.60614 to 0.59464, saving model to model.h5\n"
          ]
        },
        {
          "name": "stderr",
          "output_type": "stream",
          "text": [
            "WARNING:absl:You are saving your model as an HDF5 file via `model.save()` or `keras.saving.save_model(model)`. This file format is considered legacy. We recommend using instead the native Keras format, e.g. `model.save('my_model.keras')` or `keras.saving.save_model(model, 'my_model.keras')`. \n"
          ]
        },
        {
          "name": "stdout",
          "output_type": "stream",
          "text": [
            "\b\b\b\b\b\b\b\b\b\b\b\b\b\b\b\b\b\b\b\b\b\b\b\b\b\b\b\b\b\b\b\b\b\b\b\b\b\b\b\b\b\b\b\b\b\b\b\b\b\b\b\b\b\b\b\b\b\b\b\b\b\b\b\b\b\b\b\b\b\b\b\b\b\b\b\b\b\b\b\b\b\b\b\b\b\b\b\b\b\b\b\b\r\u001b[1m32/32\u001b[0m \u001b[32m━━━━━━━━━━━━━━━━━━━━\u001b[0m\u001b[37m\u001b[0m \u001b[1m19s\u001b[0m 491ms/step - accuracy: 0.6517 - loss: 0.6172 - recall: 0.6517 - val_accuracy: 0.6863 - val_loss: 0.5946 - val_recall: 0.6863\n",
            "Epoch 7/20\n",
            "\u001b[1m13/32\u001b[0m \u001b[32m━━━━━━━━\u001b[0m\u001b[37m━━━━━━━━━━━━\u001b[0m \u001b[1m8s\u001b[0m 467ms/step - accuracy: 0.6599 - loss: 0.6441 - recall: 0.6599\n",
            "Epoch 7: val_loss did not improve from 0.59464\n",
            "\u001b[1m32/32\u001b[0m \u001b[32m━━━━━━━━━━━━━━━━━━━━\u001b[0m\u001b[37m\u001b[0m \u001b[1m8s\u001b[0m 224ms/step - accuracy: 0.6595 - loss: 0.6384 - recall: 0.6595 - val_accuracy: 0.6863 - val_loss: 0.5970 - val_recall: 0.6863\n",
            "Epoch 8/20\n",
            "\u001b[1m13/32\u001b[0m \u001b[32m━━━━━━━━\u001b[0m\u001b[37m━━━━━━━━━━━━\u001b[0m \u001b[1m8s\u001b[0m 462ms/step - accuracy: 0.7035 - loss: 0.5444 - recall: 0.7035\n",
            "Epoch 8: val_loss improved from 0.59464 to 0.56795, saving model to model.h5\n"
          ]
        },
        {
          "name": "stderr",
          "output_type": "stream",
          "text": [
            "WARNING:absl:You are saving your model as an HDF5 file via `model.save()` or `keras.saving.save_model(model)`. This file format is considered legacy. We recommend using instead the native Keras format, e.g. `model.save('my_model.keras')` or `keras.saving.save_model(model, 'my_model.keras')`. \n"
          ]
        },
        {
          "name": "stdout",
          "output_type": "stream",
          "text": [
            "\b\b\b\b\b\b\b\b\b\b\b\b\b\b\b\b\b\b\b\b\b\b\b\b\b\b\b\b\b\b\b\b\b\b\b\b\b\b\b\b\b\b\b\b\b\b\b\b\b\b\b\b\b\b\b\b\b\b\b\b\b\b\b\b\b\b\b\b\b\b\b\b\b\b\b\b\b\b\b\b\b\b\b\b\b\b\b\b\b\b\b\r\u001b[1m32/32\u001b[0m \u001b[32m━━━━━━━━━━━━━━━━━━━━\u001b[0m\u001b[37m\u001b[0m \u001b[1m24s\u001b[0m 657ms/step - accuracy: 0.6993 - loss: 0.5619 - recall: 0.6993 - val_accuracy: 0.7647 - val_loss: 0.5680 - val_recall: 0.7647\n",
            "Epoch 9/20\n",
            "\u001b[1m13/32\u001b[0m \u001b[32m━━━━━━━━\u001b[0m\u001b[37m━━━━━━━━━━━━\u001b[0m \u001b[1m10s\u001b[0m 540ms/step - accuracy: 0.6829 - loss: 0.5838 - recall: 0.6829\n",
            "Epoch 9: val_loss did not improve from 0.56795\n",
            "\u001b[1m32/32\u001b[0m \u001b[32m━━━━━━━━━━━━━━━━━━━━\u001b[0m\u001b[37m\u001b[0m \u001b[1m28s\u001b[0m 239ms/step - accuracy: 0.6984 - loss: 0.5703 - recall: 0.6984 - val_accuracy: 0.5686 - val_loss: 0.6405 - val_recall: 0.5686\n",
            "Epoch 10/20\n",
            "\u001b[1m13/32\u001b[0m \u001b[32m━━━━━━━━\u001b[0m\u001b[37m━━━━━━━━━━━━\u001b[0m \u001b[1m10s\u001b[0m 566ms/step - accuracy: 0.7028 - loss: 0.5736 - recall: 0.7028\n",
            "Epoch 10: val_loss improved from 0.56795 to 0.56394, saving model to model.h5\n"
          ]
        },
        {
          "name": "stderr",
          "output_type": "stream",
          "text": [
            "WARNING:absl:You are saving your model as an HDF5 file via `model.save()` or `keras.saving.save_model(model)`. This file format is considered legacy. We recommend using instead the native Keras format, e.g. `model.save('my_model.keras')` or `keras.saving.save_model(model, 'my_model.keras')`. \n"
          ]
        },
        {
          "name": "stdout",
          "output_type": "stream",
          "text": [
            "\b\b\b\b\b\b\b\b\b\b\b\b\b\b\b\b\b\b\b\b\b\b\b\b\b\b\b\b\b\b\b\b\b\b\b\b\b\b\b\b\b\b\b\b\b\b\b\b\b\b\b\b\b\b\b\b\b\b\b\b\b\b\b\b\b\b\b\b\b\b\b\b\b\b\b\b\b\b\b\b\b\b\b\b\b\b\b\b\b\b\b\b\r\u001b[1m32/32\u001b[0m \u001b[32m━━━━━━━━━━━━━━━━━━━━\u001b[0m\u001b[37m\u001b[0m \u001b[1m20s\u001b[0m 570ms/step - accuracy: 0.6946 - loss: 0.5826 - recall: 0.6946 - val_accuracy: 0.7255 - val_loss: 0.5639 - val_recall: 0.7255\n",
            "Epoch 11/20\n",
            "\u001b[1m13/32\u001b[0m \u001b[32m━━━━━━━━\u001b[0m\u001b[37m━━━━━━━━━━━━\u001b[0m \u001b[1m9s\u001b[0m 476ms/step - accuracy: 0.6890 - loss: 0.6088 - recall: 0.6890\n",
            "Epoch 11: val_loss did not improve from 0.56394\n",
            "\u001b[1m32/32\u001b[0m \u001b[32m━━━━━━━━━━━━━━━━━━━━\u001b[0m\u001b[37m\u001b[0m \u001b[1m10s\u001b[0m 213ms/step - accuracy: 0.6846 - loss: 0.6084 - recall: 0.6846 - val_accuracy: 0.5686 - val_loss: 0.6383 - val_recall: 0.5686\n",
            "Epoch 12/20\n",
            "\u001b[1m13/32\u001b[0m \u001b[32m━━━━━━━━\u001b[0m\u001b[37m━━━━━━━━━━━━\u001b[0m \u001b[1m10s\u001b[0m 544ms/step - accuracy: 0.6859 - loss: 0.5764 - recall: 0.6859\n",
            "Epoch 12: val_loss did not improve from 0.56394\n",
            "\u001b[1m32/32\u001b[0m \u001b[32m━━━━━━━━━━━━━━━━━━━━\u001b[0m\u001b[37m\u001b[0m \u001b[1m8s\u001b[0m 240ms/step - accuracy: 0.6893 - loss: 0.5801 - recall: 0.6893 - val_accuracy: 0.6863 - val_loss: 0.5828 - val_recall: 0.6863\n",
            "Epoch 13/20\n",
            "\u001b[1m13/32\u001b[0m \u001b[32m━━━━━━━━\u001b[0m\u001b[37m━━━━━━━━━━━━\u001b[0m \u001b[1m10s\u001b[0m 544ms/step - accuracy: 0.7044 - loss: 0.5914 - recall: 0.7044\n",
            "Epoch 13: val_loss did not improve from 0.56394\n",
            "\u001b[1m32/32\u001b[0m \u001b[32m━━━━━━━━━━━━━━━━━━━━\u001b[0m\u001b[37m\u001b[0m \u001b[1m8s\u001b[0m 241ms/step - accuracy: 0.6983 - loss: 0.5794 - recall: 0.6983 - val_accuracy: 0.6667 - val_loss: 0.6406 - val_recall: 0.6667\n",
            "Epoch 14/20\n",
            "\u001b[1m13/32\u001b[0m \u001b[32m━━━━━━━━\u001b[0m\u001b[37m━━━━━━━━━━━━\u001b[0m \u001b[1m9s\u001b[0m 479ms/step - accuracy: 0.6761 - loss: 0.5904 - recall: 0.6761\n",
            "Epoch 14: val_loss did not improve from 0.56394\n",
            "\u001b[1m32/32\u001b[0m \u001b[32m━━━━━━━━━━━━━━━━━━━━\u001b[0m\u001b[37m\u001b[0m \u001b[1m10s\u001b[0m 221ms/step - accuracy: 0.6779 - loss: 0.5848 - recall: 0.6779 - val_accuracy: 0.6471 - val_loss: 0.5847 - val_recall: 0.6471\n",
            "Epoch 15/20\n",
            "\u001b[1m13/32\u001b[0m \u001b[32m━━━━━━━━\u001b[0m\u001b[37m━━━━━━━━━━━━\u001b[0m \u001b[1m9s\u001b[0m 477ms/step - accuracy: 0.6856 - loss: 0.5664 - recall: 0.6856\n",
            "Epoch 15: val_loss did not improve from 0.56394\n",
            "\u001b[1m32/32\u001b[0m \u001b[32m━━━━━━━━━━━━━━━━━━━━\u001b[0m\u001b[37m\u001b[0m \u001b[1m10s\u001b[0m 214ms/step - accuracy: 0.6862 - loss: 0.5710 - recall: 0.6862 - val_accuracy: 0.6078 - val_loss: 0.6125 - val_recall: 0.6078\n",
            "Epoch 16/20\n",
            "\u001b[1m13/32\u001b[0m \u001b[32m━━━━━━━━\u001b[0m\u001b[37m━━━━━━━━━━━━\u001b[0m \u001b[1m9s\u001b[0m 487ms/step - accuracy: 0.7103 - loss: 0.5366 - recall: 0.7103\n",
            "Epoch 16: val_loss did not improve from 0.56394\n",
            "\u001b[1m32/32\u001b[0m \u001b[32m━━━━━━━━━━━━━━━━━━━━\u001b[0m\u001b[37m\u001b[0m \u001b[1m10s\u001b[0m 218ms/step - accuracy: 0.7036 - loss: 0.5441 - recall: 0.7036 - val_accuracy: 0.7255 - val_loss: 0.5914 - val_recall: 0.7255\n",
            "Epoch 17/20\n",
            "\u001b[1m13/32\u001b[0m \u001b[32m━━━━━━━━\u001b[0m\u001b[37m━━━━━━━━━━━━\u001b[0m \u001b[1m10s\u001b[0m 549ms/step - accuracy: 0.7137 - loss: 0.5721 - recall: 0.7137\n",
            "Epoch 17: val_loss did not improve from 0.56394\n",
            "\u001b[1m32/32\u001b[0m \u001b[32m━━━━━━━━━━━━━━━━━━━━\u001b[0m\u001b[37m\u001b[0m \u001b[1m8s\u001b[0m 242ms/step - accuracy: 0.7109 - loss: 0.5725 - recall: 0.7109 - val_accuracy: 0.6863 - val_loss: 0.6221 - val_recall: 0.6863\n",
            "Epoch 18/20\n",
            "\u001b[1m13/32\u001b[0m \u001b[32m━━━━━━━━\u001b[0m\u001b[37m━━━━━━━━━━━━\u001b[0m \u001b[1m10s\u001b[0m 547ms/step - accuracy: 0.6907 - loss: 0.5592 - recall: 0.6907\n",
            "Epoch 18: val_loss improved from 0.56394 to 0.49024, saving model to model.h5\n"
          ]
        },
        {
          "name": "stderr",
          "output_type": "stream",
          "text": [
            "WARNING:absl:You are saving your model as an HDF5 file via `model.save()` or `keras.saving.save_model(model)`. This file format is considered legacy. We recommend using instead the native Keras format, e.g. `model.save('my_model.keras')` or `keras.saving.save_model(model, 'my_model.keras')`. \n"
          ]
        },
        {
          "name": "stdout",
          "output_type": "stream",
          "text": [
            "\b\b\b\b\b\b\b\b\b\b\b\b\b\b\b\b\b\b\b\b\b\b\b\b\b\b\b\b\b\b\b\b\b\b\b\b\b\b\b\b\b\b\b\b\b\b\b\b\b\b\b\b\b\b\b\b\b\b\b\b\b\b\b\b\b\b\b\b\b\b\b\b\b\b\b\b\b\b\b\b\b\b\b\b\b\b\b\b\b\b\b\b\r\u001b[1m32/32\u001b[0m \u001b[32m━━━━━━━━━━━━━━━━━━━━\u001b[0m\u001b[37m\u001b[0m \u001b[1m23s\u001b[0m 652ms/step - accuracy: 0.7016 - loss: 0.5524 - recall: 0.7016 - val_accuracy: 0.6863 - val_loss: 0.4902 - val_recall: 0.6863\n",
            "Epoch 19/20\n",
            "\u001b[1m13/32\u001b[0m \u001b[32m━━━━━━━━\u001b[0m\u001b[37m━━━━━━━━━━━━\u001b[0m \u001b[1m10s\u001b[0m 560ms/step - accuracy: 0.7074 - loss: 0.5325 - recall: 0.7074\n",
            "Epoch 19: val_loss did not improve from 0.49024\n",
            "\u001b[1m32/32\u001b[0m \u001b[32m━━━━━━━━━━━━━━━━━━━━\u001b[0m\u001b[37m\u001b[0m \u001b[1m10s\u001b[0m 300ms/step - accuracy: 0.7113 - loss: 0.5319 - recall: 0.7113 - val_accuracy: 0.7059 - val_loss: 0.5161 - val_recall: 0.7059\n",
            "Epoch 20/20\n",
            "\u001b[1m13/32\u001b[0m \u001b[32m━━━━━━━━\u001b[0m\u001b[37m━━━━━━━━━━━━\u001b[0m \u001b[1m9s\u001b[0m 479ms/step - accuracy: 0.7245 - loss: 0.5124 - recall: 0.7245\n",
            "Epoch 20: val_loss did not improve from 0.49024\n",
            "\u001b[1m32/32\u001b[0m \u001b[32m━━━━━━━━━━━━━━━━━━━━\u001b[0m\u001b[37m\u001b[0m \u001b[1m8s\u001b[0m 216ms/step - accuracy: 0.7212 - loss: 0.5191 - recall: 0.7212 - val_accuracy: 0.6667 - val_loss: 0.6288 - val_recall: 0.6667\n"
          ]
        }
      ],
      "source": [
        "from tensorflow.keras.applications import VGG19\n",
        "from tensorflow.keras.layers import Dense, Flatten, Dropout\n",
        "from tensorflow.keras.models import Model\n",
        "from tensorflow.keras.optimizers import Adam\n",
        "from tensorflow.keras.callbacks import ModelCheckpoint\n",
        "from tensorflow.keras.metrics import Recall\n",
        "\n",
        "# Best Hyperparameters from Optuna\n",
        "best_lr = 2.8706295492775003e-05\n",
        "best_dropout = 0.5  # Assuming dropout remains the same\n",
        "best_dense_1 = 3584\n",
        "best_dense_2 = 1024\n",
        "\n",
        "# Load base model (VGG19) without the top classification layer\n",
        "base_model = VGG19(input_shape=(240, 240, 3), include_top=False, weights='imagenet')\n",
        "\n",
        "# Freeze Base Model Layers\n",
        "for layer in base_model.layers:\n",
        "    layer.trainable = False\n",
        "\n",
        "# Add Custom Top Layers\n",
        "x = Flatten()(base_model.output)\n",
        "x = Dense(best_dense_1, activation='relu')(x)\n",
        "x = Dropout(best_dropout)(x)\n",
        "x = Dense(best_dense_2, activation='relu')(x)\n",
        "output = Dense(2, activation='softmax')(x)\n",
        "\n",
        "# Create final model\n",
        "model_01 = Model(inputs=base_model.input, outputs=output)\n",
        "model_01.summary()\n",
        "\n",
        "# Compile model using Adam optimizer with best learning rate\n",
        "adam = Adam(learning_rate=best_lr)\n",
        "model_01.compile(loss='categorical_crossentropy', optimizer=adam, metrics=['accuracy', Recall()])\n",
        "\n",
        "# Checkpoint to save best model\n",
        "filepath = 'model.h5'\n",
        "cp = ModelCheckpoint(filepath, monitor='val_loss', verbose=1, save_best_only=True, save_weights_only=False, mode='auto', save_freq='epoch')\n",
        "\n",
        "# Train the model\n",
        "history_01 = model_01.fit(\n",
        "    train_generator,\n",
        "    steps_per_epoch=32,\n",
        "    epochs=20,\n",
        "    callbacks=[cp],\n",
        "    validation_data=valid_generator\n",
        ")\n"
      ]
    },
    {
      "cell_type": "code",
      "execution_count": 35,
      "metadata": {
        "id": "19MHyPMfKAar"
      },
      "outputs": [],
      "source": [
        "import os\n",
        "\n",
        "# Ensure the directory exists\n",
        "if not os.path.isdir(\"model_weights/\"):\n",
        "    os.mkdir(\"model_weights/\")\n",
        "\n",
        "# Save weights with correct filename extension\n",
        "model_01.save_weights(filepath=\"model_weights/vgg19_model_01.weights.h5\", overwrite=True)"
      ]
    },
    {
      "cell_type": "code",
      "execution_count": 36,
      "metadata": {
        "colab": {
          "base_uri": "https://localhost:8080/"
        },
        "id": "LwJ9uZR_KJIa",
        "outputId": "77b2c5bd-f4e0-4fbb-c03b-1a91f6a60aa5"
      },
      "outputs": [
        {
          "name": "stdout",
          "output_type": "stream",
          "text": [
            "\u001b[1m2/2\u001b[0m \u001b[32m━━━━━━━━━━━━━━━━━━━━\u001b[0m\u001b[37m\u001b[0m \u001b[1m1s\u001b[0m 270ms/step - accuracy: 0.6814 - loss: 0.5770 - recall: 0.6814\n",
            "Validation - Loss: 0.6052923202514648, Accuracy: 0.6470588445663452, Recall: 0.6470588445663452\n",
            "\u001b[1m2/2\u001b[0m \u001b[32m━━━━━━━━━━━━━━━━━━━━\u001b[0m\u001b[37m\u001b[0m \u001b[1m8s\u001b[0m 7s/step - accuracy: 0.7262 - loss: 0.4728 - recall: 0.7262\n",
            "Test - Loss: 0.49257320165634155, Accuracy: 0.7142857313156128, Recall: 0.7142857313156128\n"
          ]
        }
      ],
      "source": [
        "# Load model weights\n",
        "model_01.load_weights(\"model_weights/vgg19_model_01.weights.h5\")\n",
        "\n",
        "# Evaluate on validation set\n",
        "vgg_val_eval_01 = model_01.evaluate(valid_generator)\n",
        "print(f\"Validation - Loss: {vgg_val_eval_01[0]}, Accuracy: {vgg_val_eval_01[1]}, Recall: {vgg_val_eval_01[2]}\")\n",
        "\n",
        "# Evaluate on test set\n",
        "vgg_test_eval_01 = model_01.evaluate(test_generator)\n",
        "print(f\"Test - Loss: {vgg_test_eval_01[0]}, Accuracy: {vgg_test_eval_01[1]}, Recall: {vgg_test_eval_01[2]}\")"
      ]
    },
    {
      "cell_type": "code",
      "execution_count": 37,
      "metadata": {
        "colab": {
          "base_uri": "https://localhost:8080/"
        },
        "id": "CcLq-0KQKJLE",
        "outputId": "c7752389-dba0-4348-f11f-a2da588d00ba"
      },
      "outputs": [
        {
          "name": "stdout",
          "output_type": "stream",
          "text": [
            "Number of test samples: 49\n",
            "Batch size: 32\n",
            "Total batches in test_generator: 2\n",
            "\u001b[1m2/2\u001b[0m \u001b[32m━━━━━━━━━━━━━━━━━━━━\u001b[0m\u001b[37m\u001b[0m \u001b[1m2s\u001b[0m 729ms/step\n",
            "Predicted class indices: [0 1 1 1 0 1 0 0 1 0 0 0 1 0 1 0 0 1 0 0 1 0 1 0 0 1 0 1 1 0 0 1 1 1 1 1 0\n",
            " 1 0 1 0 1 1 1 0 1 1 0 1]\n"
          ]
        }
      ],
      "source": [
        "import numpy as np\n",
        "\n",
        "# Get filenames from test generator\n",
        "filenames = test_generator.filenames\n",
        "nb_sample = len(filenames)\n",
        "\n",
        "# Ensure the correct number of steps (batches) for prediction\n",
        "steps_per_epoch = len(test_generator)\n",
        "\n",
        "# Debugging information\n",
        "print(f\"Number of test samples: {nb_sample}\")\n",
        "print(f\"Batch size: {test_generator.batch_size}\")\n",
        "print(f\"Total batches in test_generator: {steps_per_epoch}\")\n",
        "\n",
        "# Run predictions with corrected steps\n",
        "vgg_prediction_01 = model_01.predict(test_generator, steps=steps_per_epoch, verbose=1)\n",
        "\n",
        "# Convert softmax probabilities to class labels\n",
        "y_pred = np.argmax(vgg_prediction_01, axis=1)\n",
        "\n",
        "# Output predicted class indices\n",
        "print(f\"Predicted class indices: {y_pred}\")"
      ]
    },
    {
      "cell_type": "code",
      "execution_count": 39,
      "metadata": {
        "colab": {
          "base_uri": "https://localhost:8080/",
          "height": 1000
        },
        "id": "2kNF6wqxKJOm",
        "outputId": "8aa961f2-f67d-48d7-9807-cf4cab501d6f"
      },
      "outputs": [
        {
          "data": {
            "text/html": [
              "<pre style=\"white-space:pre;overflow-x:auto;line-height:normal;font-family:Menlo,'DejaVu Sans Mono',consolas,'Courier New',monospace\"><span style=\"font-weight: bold\">Model: \"functional_2\"</span>\n",
              "</pre>\n"
            ],
            "text/plain": [
              "\u001b[1mModel: \"functional_2\"\u001b[0m\n"
            ]
          },
          "metadata": {},
          "output_type": "display_data"
        },
        {
          "data": {
            "text/html": [
              "<pre style=\"white-space:pre;overflow-x:auto;line-height:normal;font-family:Menlo,'DejaVu Sans Mono',consolas,'Courier New',monospace\">┏━━━━━━━━━━━━━━━━━━━━━━━━━━━━━━━━━━━━━━┳━━━━━━━━━━━━━━━━━━━━━━━━━━━━━┳━━━━━━━━━━━━━━━━━┓\n",
              "┃<span style=\"font-weight: bold\"> Layer (type)                         </span>┃<span style=\"font-weight: bold\"> Output Shape                </span>┃<span style=\"font-weight: bold\">         Param # </span>┃\n",
              "┡━━━━━━━━━━━━━━━━━━━━━━━━━━━━━━━━━━━━━━╇━━━━━━━━━━━━━━━━━━━━━━━━━━━━━╇━━━━━━━━━━━━━━━━━┩\n",
              "│ input_layer_2 (<span style=\"color: #0087ff; text-decoration-color: #0087ff\">InputLayer</span>)           │ (<span style=\"color: #00d7ff; text-decoration-color: #00d7ff\">None</span>, <span style=\"color: #00af00; text-decoration-color: #00af00\">240</span>, <span style=\"color: #00af00; text-decoration-color: #00af00\">240</span>, <span style=\"color: #00af00; text-decoration-color: #00af00\">3</span>)         │               <span style=\"color: #00af00; text-decoration-color: #00af00\">0</span> │\n",
              "├──────────────────────────────────────┼─────────────────────────────┼─────────────────┤\n",
              "│ block1_conv1 (<span style=\"color: #0087ff; text-decoration-color: #0087ff\">Conv2D</span>)                │ (<span style=\"color: #00d7ff; text-decoration-color: #00d7ff\">None</span>, <span style=\"color: #00af00; text-decoration-color: #00af00\">240</span>, <span style=\"color: #00af00; text-decoration-color: #00af00\">240</span>, <span style=\"color: #00af00; text-decoration-color: #00af00\">64</span>)        │           <span style=\"color: #00af00; text-decoration-color: #00af00\">1,792</span> │\n",
              "├──────────────────────────────────────┼─────────────────────────────┼─────────────────┤\n",
              "│ block1_conv2 (<span style=\"color: #0087ff; text-decoration-color: #0087ff\">Conv2D</span>)                │ (<span style=\"color: #00d7ff; text-decoration-color: #00d7ff\">None</span>, <span style=\"color: #00af00; text-decoration-color: #00af00\">240</span>, <span style=\"color: #00af00; text-decoration-color: #00af00\">240</span>, <span style=\"color: #00af00; text-decoration-color: #00af00\">64</span>)        │          <span style=\"color: #00af00; text-decoration-color: #00af00\">36,928</span> │\n",
              "├──────────────────────────────────────┼─────────────────────────────┼─────────────────┤\n",
              "│ block1_pool (<span style=\"color: #0087ff; text-decoration-color: #0087ff\">MaxPooling2D</span>)           │ (<span style=\"color: #00d7ff; text-decoration-color: #00d7ff\">None</span>, <span style=\"color: #00af00; text-decoration-color: #00af00\">120</span>, <span style=\"color: #00af00; text-decoration-color: #00af00\">120</span>, <span style=\"color: #00af00; text-decoration-color: #00af00\">64</span>)        │               <span style=\"color: #00af00; text-decoration-color: #00af00\">0</span> │\n",
              "├──────────────────────────────────────┼─────────────────────────────┼─────────────────┤\n",
              "│ block2_conv1 (<span style=\"color: #0087ff; text-decoration-color: #0087ff\">Conv2D</span>)                │ (<span style=\"color: #00d7ff; text-decoration-color: #00d7ff\">None</span>, <span style=\"color: #00af00; text-decoration-color: #00af00\">120</span>, <span style=\"color: #00af00; text-decoration-color: #00af00\">120</span>, <span style=\"color: #00af00; text-decoration-color: #00af00\">128</span>)       │          <span style=\"color: #00af00; text-decoration-color: #00af00\">73,856</span> │\n",
              "├──────────────────────────────────────┼─────────────────────────────┼─────────────────┤\n",
              "│ block2_conv2 (<span style=\"color: #0087ff; text-decoration-color: #0087ff\">Conv2D</span>)                │ (<span style=\"color: #00d7ff; text-decoration-color: #00d7ff\">None</span>, <span style=\"color: #00af00; text-decoration-color: #00af00\">120</span>, <span style=\"color: #00af00; text-decoration-color: #00af00\">120</span>, <span style=\"color: #00af00; text-decoration-color: #00af00\">128</span>)       │         <span style=\"color: #00af00; text-decoration-color: #00af00\">147,584</span> │\n",
              "├──────────────────────────────────────┼─────────────────────────────┼─────────────────┤\n",
              "│ block2_pool (<span style=\"color: #0087ff; text-decoration-color: #0087ff\">MaxPooling2D</span>)           │ (<span style=\"color: #00d7ff; text-decoration-color: #00d7ff\">None</span>, <span style=\"color: #00af00; text-decoration-color: #00af00\">60</span>, <span style=\"color: #00af00; text-decoration-color: #00af00\">60</span>, <span style=\"color: #00af00; text-decoration-color: #00af00\">128</span>)         │               <span style=\"color: #00af00; text-decoration-color: #00af00\">0</span> │\n",
              "├──────────────────────────────────────┼─────────────────────────────┼─────────────────┤\n",
              "│ block3_conv1 (<span style=\"color: #0087ff; text-decoration-color: #0087ff\">Conv2D</span>)                │ (<span style=\"color: #00d7ff; text-decoration-color: #00d7ff\">None</span>, <span style=\"color: #00af00; text-decoration-color: #00af00\">60</span>, <span style=\"color: #00af00; text-decoration-color: #00af00\">60</span>, <span style=\"color: #00af00; text-decoration-color: #00af00\">256</span>)         │         <span style=\"color: #00af00; text-decoration-color: #00af00\">295,168</span> │\n",
              "├──────────────────────────────────────┼─────────────────────────────┼─────────────────┤\n",
              "│ block3_conv2 (<span style=\"color: #0087ff; text-decoration-color: #0087ff\">Conv2D</span>)                │ (<span style=\"color: #00d7ff; text-decoration-color: #00d7ff\">None</span>, <span style=\"color: #00af00; text-decoration-color: #00af00\">60</span>, <span style=\"color: #00af00; text-decoration-color: #00af00\">60</span>, <span style=\"color: #00af00; text-decoration-color: #00af00\">256</span>)         │         <span style=\"color: #00af00; text-decoration-color: #00af00\">590,080</span> │\n",
              "├──────────────────────────────────────┼─────────────────────────────┼─────────────────┤\n",
              "│ block3_conv3 (<span style=\"color: #0087ff; text-decoration-color: #0087ff\">Conv2D</span>)                │ (<span style=\"color: #00d7ff; text-decoration-color: #00d7ff\">None</span>, <span style=\"color: #00af00; text-decoration-color: #00af00\">60</span>, <span style=\"color: #00af00; text-decoration-color: #00af00\">60</span>, <span style=\"color: #00af00; text-decoration-color: #00af00\">256</span>)         │         <span style=\"color: #00af00; text-decoration-color: #00af00\">590,080</span> │\n",
              "├──────────────────────────────────────┼─────────────────────────────┼─────────────────┤\n",
              "│ block3_conv4 (<span style=\"color: #0087ff; text-decoration-color: #0087ff\">Conv2D</span>)                │ (<span style=\"color: #00d7ff; text-decoration-color: #00d7ff\">None</span>, <span style=\"color: #00af00; text-decoration-color: #00af00\">60</span>, <span style=\"color: #00af00; text-decoration-color: #00af00\">60</span>, <span style=\"color: #00af00; text-decoration-color: #00af00\">256</span>)         │         <span style=\"color: #00af00; text-decoration-color: #00af00\">590,080</span> │\n",
              "├──────────────────────────────────────┼─────────────────────────────┼─────────────────┤\n",
              "│ block3_pool (<span style=\"color: #0087ff; text-decoration-color: #0087ff\">MaxPooling2D</span>)           │ (<span style=\"color: #00d7ff; text-decoration-color: #00d7ff\">None</span>, <span style=\"color: #00af00; text-decoration-color: #00af00\">30</span>, <span style=\"color: #00af00; text-decoration-color: #00af00\">30</span>, <span style=\"color: #00af00; text-decoration-color: #00af00\">256</span>)         │               <span style=\"color: #00af00; text-decoration-color: #00af00\">0</span> │\n",
              "├──────────────────────────────────────┼─────────────────────────────┼─────────────────┤\n",
              "│ block4_conv1 (<span style=\"color: #0087ff; text-decoration-color: #0087ff\">Conv2D</span>)                │ (<span style=\"color: #00d7ff; text-decoration-color: #00d7ff\">None</span>, <span style=\"color: #00af00; text-decoration-color: #00af00\">30</span>, <span style=\"color: #00af00; text-decoration-color: #00af00\">30</span>, <span style=\"color: #00af00; text-decoration-color: #00af00\">512</span>)         │       <span style=\"color: #00af00; text-decoration-color: #00af00\">1,180,160</span> │\n",
              "├──────────────────────────────────────┼─────────────────────────────┼─────────────────┤\n",
              "│ block4_conv2 (<span style=\"color: #0087ff; text-decoration-color: #0087ff\">Conv2D</span>)                │ (<span style=\"color: #00d7ff; text-decoration-color: #00d7ff\">None</span>, <span style=\"color: #00af00; text-decoration-color: #00af00\">30</span>, <span style=\"color: #00af00; text-decoration-color: #00af00\">30</span>, <span style=\"color: #00af00; text-decoration-color: #00af00\">512</span>)         │       <span style=\"color: #00af00; text-decoration-color: #00af00\">2,359,808</span> │\n",
              "├──────────────────────────────────────┼─────────────────────────────┼─────────────────┤\n",
              "│ block4_conv3 (<span style=\"color: #0087ff; text-decoration-color: #0087ff\">Conv2D</span>)                │ (<span style=\"color: #00d7ff; text-decoration-color: #00d7ff\">None</span>, <span style=\"color: #00af00; text-decoration-color: #00af00\">30</span>, <span style=\"color: #00af00; text-decoration-color: #00af00\">30</span>, <span style=\"color: #00af00; text-decoration-color: #00af00\">512</span>)         │       <span style=\"color: #00af00; text-decoration-color: #00af00\">2,359,808</span> │\n",
              "├──────────────────────────────────────┼─────────────────────────────┼─────────────────┤\n",
              "│ block4_conv4 (<span style=\"color: #0087ff; text-decoration-color: #0087ff\">Conv2D</span>)                │ (<span style=\"color: #00d7ff; text-decoration-color: #00d7ff\">None</span>, <span style=\"color: #00af00; text-decoration-color: #00af00\">30</span>, <span style=\"color: #00af00; text-decoration-color: #00af00\">30</span>, <span style=\"color: #00af00; text-decoration-color: #00af00\">512</span>)         │       <span style=\"color: #00af00; text-decoration-color: #00af00\">2,359,808</span> │\n",
              "├──────────────────────────────────────┼─────────────────────────────┼─────────────────┤\n",
              "│ block4_pool (<span style=\"color: #0087ff; text-decoration-color: #0087ff\">MaxPooling2D</span>)           │ (<span style=\"color: #00d7ff; text-decoration-color: #00d7ff\">None</span>, <span style=\"color: #00af00; text-decoration-color: #00af00\">15</span>, <span style=\"color: #00af00; text-decoration-color: #00af00\">15</span>, <span style=\"color: #00af00; text-decoration-color: #00af00\">512</span>)         │               <span style=\"color: #00af00; text-decoration-color: #00af00\">0</span> │\n",
              "├──────────────────────────────────────┼─────────────────────────────┼─────────────────┤\n",
              "│ block5_conv1 (<span style=\"color: #0087ff; text-decoration-color: #0087ff\">Conv2D</span>)                │ (<span style=\"color: #00d7ff; text-decoration-color: #00d7ff\">None</span>, <span style=\"color: #00af00; text-decoration-color: #00af00\">15</span>, <span style=\"color: #00af00; text-decoration-color: #00af00\">15</span>, <span style=\"color: #00af00; text-decoration-color: #00af00\">512</span>)         │       <span style=\"color: #00af00; text-decoration-color: #00af00\">2,359,808</span> │\n",
              "├──────────────────────────────────────┼─────────────────────────────┼─────────────────┤\n",
              "│ block5_conv2 (<span style=\"color: #0087ff; text-decoration-color: #0087ff\">Conv2D</span>)                │ (<span style=\"color: #00d7ff; text-decoration-color: #00d7ff\">None</span>, <span style=\"color: #00af00; text-decoration-color: #00af00\">15</span>, <span style=\"color: #00af00; text-decoration-color: #00af00\">15</span>, <span style=\"color: #00af00; text-decoration-color: #00af00\">512</span>)         │       <span style=\"color: #00af00; text-decoration-color: #00af00\">2,359,808</span> │\n",
              "├──────────────────────────────────────┼─────────────────────────────┼─────────────────┤\n",
              "│ block5_conv3 (<span style=\"color: #0087ff; text-decoration-color: #0087ff\">Conv2D</span>)                │ (<span style=\"color: #00d7ff; text-decoration-color: #00d7ff\">None</span>, <span style=\"color: #00af00; text-decoration-color: #00af00\">15</span>, <span style=\"color: #00af00; text-decoration-color: #00af00\">15</span>, <span style=\"color: #00af00; text-decoration-color: #00af00\">512</span>)         │       <span style=\"color: #00af00; text-decoration-color: #00af00\">2,359,808</span> │\n",
              "├──────────────────────────────────────┼─────────────────────────────┼─────────────────┤\n",
              "│ block5_conv4 (<span style=\"color: #0087ff; text-decoration-color: #0087ff\">Conv2D</span>)                │ (<span style=\"color: #00d7ff; text-decoration-color: #00d7ff\">None</span>, <span style=\"color: #00af00; text-decoration-color: #00af00\">15</span>, <span style=\"color: #00af00; text-decoration-color: #00af00\">15</span>, <span style=\"color: #00af00; text-decoration-color: #00af00\">512</span>)         │       <span style=\"color: #00af00; text-decoration-color: #00af00\">2,359,808</span> │\n",
              "├──────────────────────────────────────┼─────────────────────────────┼─────────────────┤\n",
              "│ block5_pool (<span style=\"color: #0087ff; text-decoration-color: #0087ff\">MaxPooling2D</span>)           │ (<span style=\"color: #00d7ff; text-decoration-color: #00d7ff\">None</span>, <span style=\"color: #00af00; text-decoration-color: #00af00\">7</span>, <span style=\"color: #00af00; text-decoration-color: #00af00\">7</span>, <span style=\"color: #00af00; text-decoration-color: #00af00\">512</span>)           │               <span style=\"color: #00af00; text-decoration-color: #00af00\">0</span> │\n",
              "├──────────────────────────────────────┼─────────────────────────────┼─────────────────┤\n",
              "│ flatten_2 (<span style=\"color: #0087ff; text-decoration-color: #0087ff\">Flatten</span>)                  │ (<span style=\"color: #00d7ff; text-decoration-color: #00d7ff\">None</span>, <span style=\"color: #00af00; text-decoration-color: #00af00\">25088</span>)               │               <span style=\"color: #00af00; text-decoration-color: #00af00\">0</span> │\n",
              "├──────────────────────────────────────┼─────────────────────────────┼─────────────────┤\n",
              "│ dense_6 (<span style=\"color: #0087ff; text-decoration-color: #0087ff\">Dense</span>)                      │ (<span style=\"color: #00d7ff; text-decoration-color: #00d7ff\">None</span>, <span style=\"color: #00af00; text-decoration-color: #00af00\">3584</span>)                │      <span style=\"color: #00af00; text-decoration-color: #00af00\">89,918,976</span> │\n",
              "├──────────────────────────────────────┼─────────────────────────────┼─────────────────┤\n",
              "│ dropout_3 (<span style=\"color: #0087ff; text-decoration-color: #0087ff\">Dropout</span>)                  │ (<span style=\"color: #00d7ff; text-decoration-color: #00d7ff\">None</span>, <span style=\"color: #00af00; text-decoration-color: #00af00\">3584</span>)                │               <span style=\"color: #00af00; text-decoration-color: #00af00\">0</span> │\n",
              "├──────────────────────────────────────┼─────────────────────────────┼─────────────────┤\n",
              "│ dense_7 (<span style=\"color: #0087ff; text-decoration-color: #0087ff\">Dense</span>)                      │ (<span style=\"color: #00d7ff; text-decoration-color: #00d7ff\">None</span>, <span style=\"color: #00af00; text-decoration-color: #00af00\">1024</span>)                │       <span style=\"color: #00af00; text-decoration-color: #00af00\">3,671,040</span> │\n",
              "├──────────────────────────────────────┼─────────────────────────────┼─────────────────┤\n",
              "│ dense_8 (<span style=\"color: #0087ff; text-decoration-color: #0087ff\">Dense</span>)                      │ (<span style=\"color: #00d7ff; text-decoration-color: #00d7ff\">None</span>, <span style=\"color: #00af00; text-decoration-color: #00af00\">2</span>)                   │           <span style=\"color: #00af00; text-decoration-color: #00af00\">2,050</span> │\n",
              "└──────────────────────────────────────┴─────────────────────────────┴─────────────────┘\n",
              "</pre>\n"
            ],
            "text/plain": [
              "┏━━━━━━━━━━━━━━━━━━━━━━━━━━━━━━━━━━━━━━┳━━━━━━━━━━━━━━━━━━━━━━━━━━━━━┳━━━━━━━━━━━━━━━━━┓\n",
              "┃\u001b[1m \u001b[0m\u001b[1mLayer (type)                        \u001b[0m\u001b[1m \u001b[0m┃\u001b[1m \u001b[0m\u001b[1mOutput Shape               \u001b[0m\u001b[1m \u001b[0m┃\u001b[1m \u001b[0m\u001b[1m        Param #\u001b[0m\u001b[1m \u001b[0m┃\n",
              "┡━━━━━━━━━━━━━━━━━━━━━━━━━━━━━━━━━━━━━━╇━━━━━━━━━━━━━━━━━━━━━━━━━━━━━╇━━━━━━━━━━━━━━━━━┩\n",
              "│ input_layer_2 (\u001b[38;5;33mInputLayer\u001b[0m)           │ (\u001b[38;5;45mNone\u001b[0m, \u001b[38;5;34m240\u001b[0m, \u001b[38;5;34m240\u001b[0m, \u001b[38;5;34m3\u001b[0m)         │               \u001b[38;5;34m0\u001b[0m │\n",
              "├──────────────────────────────────────┼─────────────────────────────┼─────────────────┤\n",
              "│ block1_conv1 (\u001b[38;5;33mConv2D\u001b[0m)                │ (\u001b[38;5;45mNone\u001b[0m, \u001b[38;5;34m240\u001b[0m, \u001b[38;5;34m240\u001b[0m, \u001b[38;5;34m64\u001b[0m)        │           \u001b[38;5;34m1,792\u001b[0m │\n",
              "├──────────────────────────────────────┼─────────────────────────────┼─────────────────┤\n",
              "│ block1_conv2 (\u001b[38;5;33mConv2D\u001b[0m)                │ (\u001b[38;5;45mNone\u001b[0m, \u001b[38;5;34m240\u001b[0m, \u001b[38;5;34m240\u001b[0m, \u001b[38;5;34m64\u001b[0m)        │          \u001b[38;5;34m36,928\u001b[0m │\n",
              "├──────────────────────────────────────┼─────────────────────────────┼─────────────────┤\n",
              "│ block1_pool (\u001b[38;5;33mMaxPooling2D\u001b[0m)           │ (\u001b[38;5;45mNone\u001b[0m, \u001b[38;5;34m120\u001b[0m, \u001b[38;5;34m120\u001b[0m, \u001b[38;5;34m64\u001b[0m)        │               \u001b[38;5;34m0\u001b[0m │\n",
              "├──────────────────────────────────────┼─────────────────────────────┼─────────────────┤\n",
              "│ block2_conv1 (\u001b[38;5;33mConv2D\u001b[0m)                │ (\u001b[38;5;45mNone\u001b[0m, \u001b[38;5;34m120\u001b[0m, \u001b[38;5;34m120\u001b[0m, \u001b[38;5;34m128\u001b[0m)       │          \u001b[38;5;34m73,856\u001b[0m │\n",
              "├──────────────────────────────────────┼─────────────────────────────┼─────────────────┤\n",
              "│ block2_conv2 (\u001b[38;5;33mConv2D\u001b[0m)                │ (\u001b[38;5;45mNone\u001b[0m, \u001b[38;5;34m120\u001b[0m, \u001b[38;5;34m120\u001b[0m, \u001b[38;5;34m128\u001b[0m)       │         \u001b[38;5;34m147,584\u001b[0m │\n",
              "├──────────────────────────────────────┼─────────────────────────────┼─────────────────┤\n",
              "│ block2_pool (\u001b[38;5;33mMaxPooling2D\u001b[0m)           │ (\u001b[38;5;45mNone\u001b[0m, \u001b[38;5;34m60\u001b[0m, \u001b[38;5;34m60\u001b[0m, \u001b[38;5;34m128\u001b[0m)         │               \u001b[38;5;34m0\u001b[0m │\n",
              "├──────────────────────────────────────┼─────────────────────────────┼─────────────────┤\n",
              "│ block3_conv1 (\u001b[38;5;33mConv2D\u001b[0m)                │ (\u001b[38;5;45mNone\u001b[0m, \u001b[38;5;34m60\u001b[0m, \u001b[38;5;34m60\u001b[0m, \u001b[38;5;34m256\u001b[0m)         │         \u001b[38;5;34m295,168\u001b[0m │\n",
              "├──────────────────────────────────────┼─────────────────────────────┼─────────────────┤\n",
              "│ block3_conv2 (\u001b[38;5;33mConv2D\u001b[0m)                │ (\u001b[38;5;45mNone\u001b[0m, \u001b[38;5;34m60\u001b[0m, \u001b[38;5;34m60\u001b[0m, \u001b[38;5;34m256\u001b[0m)         │         \u001b[38;5;34m590,080\u001b[0m │\n",
              "├──────────────────────────────────────┼─────────────────────────────┼─────────────────┤\n",
              "│ block3_conv3 (\u001b[38;5;33mConv2D\u001b[0m)                │ (\u001b[38;5;45mNone\u001b[0m, \u001b[38;5;34m60\u001b[0m, \u001b[38;5;34m60\u001b[0m, \u001b[38;5;34m256\u001b[0m)         │         \u001b[38;5;34m590,080\u001b[0m │\n",
              "├──────────────────────────────────────┼─────────────────────────────┼─────────────────┤\n",
              "│ block3_conv4 (\u001b[38;5;33mConv2D\u001b[0m)                │ (\u001b[38;5;45mNone\u001b[0m, \u001b[38;5;34m60\u001b[0m, \u001b[38;5;34m60\u001b[0m, \u001b[38;5;34m256\u001b[0m)         │         \u001b[38;5;34m590,080\u001b[0m │\n",
              "├──────────────────────────────────────┼─────────────────────────────┼─────────────────┤\n",
              "│ block3_pool (\u001b[38;5;33mMaxPooling2D\u001b[0m)           │ (\u001b[38;5;45mNone\u001b[0m, \u001b[38;5;34m30\u001b[0m, \u001b[38;5;34m30\u001b[0m, \u001b[38;5;34m256\u001b[0m)         │               \u001b[38;5;34m0\u001b[0m │\n",
              "├──────────────────────────────────────┼─────────────────────────────┼─────────────────┤\n",
              "│ block4_conv1 (\u001b[38;5;33mConv2D\u001b[0m)                │ (\u001b[38;5;45mNone\u001b[0m, \u001b[38;5;34m30\u001b[0m, \u001b[38;5;34m30\u001b[0m, \u001b[38;5;34m512\u001b[0m)         │       \u001b[38;5;34m1,180,160\u001b[0m │\n",
              "├──────────────────────────────────────┼─────────────────────────────┼─────────────────┤\n",
              "│ block4_conv2 (\u001b[38;5;33mConv2D\u001b[0m)                │ (\u001b[38;5;45mNone\u001b[0m, \u001b[38;5;34m30\u001b[0m, \u001b[38;5;34m30\u001b[0m, \u001b[38;5;34m512\u001b[0m)         │       \u001b[38;5;34m2,359,808\u001b[0m │\n",
              "├──────────────────────────────────────┼─────────────────────────────┼─────────────────┤\n",
              "│ block4_conv3 (\u001b[38;5;33mConv2D\u001b[0m)                │ (\u001b[38;5;45mNone\u001b[0m, \u001b[38;5;34m30\u001b[0m, \u001b[38;5;34m30\u001b[0m, \u001b[38;5;34m512\u001b[0m)         │       \u001b[38;5;34m2,359,808\u001b[0m │\n",
              "├──────────────────────────────────────┼─────────────────────────────┼─────────────────┤\n",
              "│ block4_conv4 (\u001b[38;5;33mConv2D\u001b[0m)                │ (\u001b[38;5;45mNone\u001b[0m, \u001b[38;5;34m30\u001b[0m, \u001b[38;5;34m30\u001b[0m, \u001b[38;5;34m512\u001b[0m)         │       \u001b[38;5;34m2,359,808\u001b[0m │\n",
              "├──────────────────────────────────────┼─────────────────────────────┼─────────────────┤\n",
              "│ block4_pool (\u001b[38;5;33mMaxPooling2D\u001b[0m)           │ (\u001b[38;5;45mNone\u001b[0m, \u001b[38;5;34m15\u001b[0m, \u001b[38;5;34m15\u001b[0m, \u001b[38;5;34m512\u001b[0m)         │               \u001b[38;5;34m0\u001b[0m │\n",
              "├──────────────────────────────────────┼─────────────────────────────┼─────────────────┤\n",
              "│ block5_conv1 (\u001b[38;5;33mConv2D\u001b[0m)                │ (\u001b[38;5;45mNone\u001b[0m, \u001b[38;5;34m15\u001b[0m, \u001b[38;5;34m15\u001b[0m, \u001b[38;5;34m512\u001b[0m)         │       \u001b[38;5;34m2,359,808\u001b[0m │\n",
              "├──────────────────────────────────────┼─────────────────────────────┼─────────────────┤\n",
              "│ block5_conv2 (\u001b[38;5;33mConv2D\u001b[0m)                │ (\u001b[38;5;45mNone\u001b[0m, \u001b[38;5;34m15\u001b[0m, \u001b[38;5;34m15\u001b[0m, \u001b[38;5;34m512\u001b[0m)         │       \u001b[38;5;34m2,359,808\u001b[0m │\n",
              "├──────────────────────────────────────┼─────────────────────────────┼─────────────────┤\n",
              "│ block5_conv3 (\u001b[38;5;33mConv2D\u001b[0m)                │ (\u001b[38;5;45mNone\u001b[0m, \u001b[38;5;34m15\u001b[0m, \u001b[38;5;34m15\u001b[0m, \u001b[38;5;34m512\u001b[0m)         │       \u001b[38;5;34m2,359,808\u001b[0m │\n",
              "├──────────────────────────────────────┼─────────────────────────────┼─────────────────┤\n",
              "│ block5_conv4 (\u001b[38;5;33mConv2D\u001b[0m)                │ (\u001b[38;5;45mNone\u001b[0m, \u001b[38;5;34m15\u001b[0m, \u001b[38;5;34m15\u001b[0m, \u001b[38;5;34m512\u001b[0m)         │       \u001b[38;5;34m2,359,808\u001b[0m │\n",
              "├──────────────────────────────────────┼─────────────────────────────┼─────────────────┤\n",
              "│ block5_pool (\u001b[38;5;33mMaxPooling2D\u001b[0m)           │ (\u001b[38;5;45mNone\u001b[0m, \u001b[38;5;34m7\u001b[0m, \u001b[38;5;34m7\u001b[0m, \u001b[38;5;34m512\u001b[0m)           │               \u001b[38;5;34m0\u001b[0m │\n",
              "├──────────────────────────────────────┼─────────────────────────────┼─────────────────┤\n",
              "│ flatten_2 (\u001b[38;5;33mFlatten\u001b[0m)                  │ (\u001b[38;5;45mNone\u001b[0m, \u001b[38;5;34m25088\u001b[0m)               │               \u001b[38;5;34m0\u001b[0m │\n",
              "├──────────────────────────────────────┼─────────────────────────────┼─────────────────┤\n",
              "│ dense_6 (\u001b[38;5;33mDense\u001b[0m)                      │ (\u001b[38;5;45mNone\u001b[0m, \u001b[38;5;34m3584\u001b[0m)                │      \u001b[38;5;34m89,918,976\u001b[0m │\n",
              "├──────────────────────────────────────┼─────────────────────────────┼─────────────────┤\n",
              "│ dropout_3 (\u001b[38;5;33mDropout\u001b[0m)                  │ (\u001b[38;5;45mNone\u001b[0m, \u001b[38;5;34m3584\u001b[0m)                │               \u001b[38;5;34m0\u001b[0m │\n",
              "├──────────────────────────────────────┼─────────────────────────────┼─────────────────┤\n",
              "│ dense_7 (\u001b[38;5;33mDense\u001b[0m)                      │ (\u001b[38;5;45mNone\u001b[0m, \u001b[38;5;34m1024\u001b[0m)                │       \u001b[38;5;34m3,671,040\u001b[0m │\n",
              "├──────────────────────────────────────┼─────────────────────────────┼─────────────────┤\n",
              "│ dense_8 (\u001b[38;5;33mDense\u001b[0m)                      │ (\u001b[38;5;45mNone\u001b[0m, \u001b[38;5;34m2\u001b[0m)                   │           \u001b[38;5;34m2,050\u001b[0m │\n",
              "└──────────────────────────────────────┴─────────────────────────────┴─────────────────┘\n"
            ]
          },
          "metadata": {},
          "output_type": "display_data"
        },
        {
          "data": {
            "text/html": [
              "<pre style=\"white-space:pre;overflow-x:auto;line-height:normal;font-family:Menlo,'DejaVu Sans Mono',consolas,'Courier New',monospace\"><span style=\"font-weight: bold\"> Total params: </span><span style=\"color: #00af00; text-decoration-color: #00af00\">113,616,450</span> (433.41 MB)\n",
              "</pre>\n"
            ],
            "text/plain": [
              "\u001b[1m Total params: \u001b[0m\u001b[38;5;34m113,616,450\u001b[0m (433.41 MB)\n"
            ]
          },
          "metadata": {},
          "output_type": "display_data"
        },
        {
          "data": {
            "text/html": [
              "<pre style=\"white-space:pre;overflow-x:auto;line-height:normal;font-family:Menlo,'DejaVu Sans Mono',consolas,'Courier New',monospace\"><span style=\"font-weight: bold\"> Trainable params: </span><span style=\"color: #00af00; text-decoration-color: #00af00\">9,439,232</span> (36.01 MB)\n",
              "</pre>\n"
            ],
            "text/plain": [
              "\u001b[1m Trainable params: \u001b[0m\u001b[38;5;34m9,439,232\u001b[0m (36.01 MB)\n"
            ]
          },
          "metadata": {},
          "output_type": "display_data"
        },
        {
          "data": {
            "text/html": [
              "<pre style=\"white-space:pre;overflow-x:auto;line-height:normal;font-family:Menlo,'DejaVu Sans Mono',consolas,'Courier New',monospace\"><span style=\"font-weight: bold\"> Non-trainable params: </span><span style=\"color: #00af00; text-decoration-color: #00af00\">104,177,218</span> (397.40 MB)\n",
              "</pre>\n"
            ],
            "text/plain": [
              "\u001b[1m Non-trainable params: \u001b[0m\u001b[38;5;34m104,177,218\u001b[0m (397.40 MB)\n"
            ]
          },
          "metadata": {},
          "output_type": "display_data"
        },
        {
          "name": "stdout",
          "output_type": "stream",
          "text": [
            "Epoch 1/20\n",
            "\u001b[1m13/32\u001b[0m \u001b[32m━━━━━━━━\u001b[0m\u001b[37m━━━━━━━━━━━━\u001b[0m \u001b[1m13s\u001b[0m 687ms/step - accuracy: 0.6710 - loss: 0.6480 - recall_1: 0.6710\n",
            "Epoch 1: val_loss improved from inf to 0.59008, saving model to model_weights/vgg19_model_02.weights.h5\n"
          ]
        },
        {
          "name": "stderr",
          "output_type": "stream",
          "text": [
            "WARNING:absl:You are saving your model as an HDF5 file via `model.save()` or `keras.saving.save_model(model)`. This file format is considered legacy. We recommend using instead the native Keras format, e.g. `model.save('my_model.keras')` or `keras.saving.save_model(model, 'my_model.keras')`. \n"
          ]
        },
        {
          "name": "stdout",
          "output_type": "stream",
          "text": [
            "\b\b\b\b\b\b\b\b\b\b\b\b\b\b\b\b\b\b\b\b\b\b\b\b\b\b\b\b\b\b\b\b\b\b\b\b\b\b\b\b\b\b\b\b\b\b\b\b\b\b\b\b\b\b\b\b\b\b\b\b\b\b\b\b\b\b\b\b\b\b\b\b\b\b\b\b\b\b\b\b\b\b\b\b\b\b\b\b\b\b\b\b\b\b\r\u001b[1m32/32\u001b[0m \u001b[32m━━━━━━━━━━━━━━━━━━━━\u001b[0m\u001b[37m\u001b[0m \u001b[1m21s\u001b[0m 458ms/step - accuracy: 0.6699 - loss: 0.6399 - recall_1: 0.6699 - val_accuracy: 0.7647 - val_loss: 0.5901 - val_recall_1: 0.7647\n",
            "Epoch 2/20\n",
            "\u001b[1m13/32\u001b[0m \u001b[32m━━━━━━━━\u001b[0m\u001b[37m━━━━━━━━━━━━\u001b[0m \u001b[1m10s\u001b[0m 569ms/step - accuracy: 0.7593 - loss: 0.4883 - recall_1: 0.7593\n",
            "Epoch 2: val_loss improved from 0.59008 to 0.52038, saving model to model_weights/vgg19_model_02.weights.h5\n"
          ]
        },
        {
          "name": "stderr",
          "output_type": "stream",
          "text": [
            "WARNING:absl:You are saving your model as an HDF5 file via `model.save()` or `keras.saving.save_model(model)`. This file format is considered legacy. We recommend using instead the native Keras format, e.g. `model.save('my_model.keras')` or `keras.saving.save_model(model, 'my_model.keras')`. \n"
          ]
        },
        {
          "name": "stdout",
          "output_type": "stream",
          "text": [
            "\b\b\b\b\b\b\b\b\b\b\b\b\b\b\b\b\b\b\b\b\b\b\b\b\b\b\b\b\b\b\b\b\b\b\b\b\b\b\b\b\b\b\b\b\b\b\b\b\b\b\b\b\b\b\b\b\b\b\b\b\b\b\b\b\b\b\b\b\b\b\b\b\b\b\b\b\b\b\b\b\b\b\b\b\b\b\b\b\b\b\b\b\b\b\r\u001b[1m32/32\u001b[0m \u001b[32m━━━━━━━━━━━━━━━━━━━━\u001b[0m\u001b[37m\u001b[0m \u001b[1m19s\u001b[0m 552ms/step - accuracy: 0.7560 - loss: 0.4790 - recall_1: 0.7560 - val_accuracy: 0.7843 - val_loss: 0.5204 - val_recall_1: 0.7843\n",
            "Epoch 3/20\n",
            "\u001b[1m13/32\u001b[0m \u001b[32m━━━━━━━━\u001b[0m\u001b[37m━━━━━━━━━━━━\u001b[0m \u001b[1m9s\u001b[0m 504ms/step - accuracy: 0.7667 - loss: 0.4741 - recall_1: 0.7667 \n",
            "Epoch 3: val_loss did not improve from 0.52038\n",
            "\u001b[1m32/32\u001b[0m \u001b[32m━━━━━━━━━━━━━━━━━━━━\u001b[0m\u001b[37m\u001b[0m \u001b[1m10s\u001b[0m 224ms/step - accuracy: 0.7664 - loss: 0.4620 - recall_1: 0.7664 - val_accuracy: 0.7647 - val_loss: 0.5589 - val_recall_1: 0.7647\n",
            "Epoch 4/20\n",
            "\u001b[1m13/32\u001b[0m \u001b[32m━━━━━━━━\u001b[0m\u001b[37m━━━━━━━━━━━━\u001b[0m \u001b[1m9s\u001b[0m 490ms/step - accuracy: 0.8105 - loss: 0.4080 - recall_1: 0.8105\n",
            "Epoch 4: val_loss did not improve from 0.52038\n",
            "\u001b[1m32/32\u001b[0m \u001b[32m━━━━━━━━━━━━━━━━━━━━\u001b[0m\u001b[37m\u001b[0m \u001b[1m10s\u001b[0m 218ms/step - accuracy: 0.8078 - loss: 0.4187 - recall_1: 0.8078 - val_accuracy: 0.8235 - val_loss: 0.6819 - val_recall_1: 0.8235\n",
            "Epoch 5/20\n",
            "\u001b[1m13/32\u001b[0m \u001b[32m━━━━━━━━\u001b[0m\u001b[37m━━━━━━━━━━━━\u001b[0m \u001b[1m10s\u001b[0m 571ms/step - accuracy: 0.7763 - loss: 0.4261 - recall_1: 0.7763\n",
            "Epoch 5: val_loss did not improve from 0.52038\n",
            "\u001b[1m32/32\u001b[0m \u001b[32m━━━━━━━━━━━━━━━━━━━━\u001b[0m\u001b[37m\u001b[0m \u001b[1m8s\u001b[0m 250ms/step - accuracy: 0.8013 - loss: 0.3922 - recall_1: 0.8013 - val_accuracy: 0.8039 - val_loss: 0.5929 - val_recall_1: 0.8039\n",
            "Epoch 6/20\n",
            "\u001b[1m13/32\u001b[0m \u001b[32m━━━━━━━━\u001b[0m\u001b[37m━━━━━━━━━━━━\u001b[0m \u001b[1m9s\u001b[0m 524ms/step - accuracy: 0.8631 - loss: 0.3237 - recall_1: 0.8631\n",
            "Epoch 6: val_loss did not improve from 0.52038\n",
            "\u001b[1m32/32\u001b[0m \u001b[32m━━━━━━━━━━━━━━━━━━━━\u001b[0m\u001b[37m\u001b[0m \u001b[1m8s\u001b[0m 248ms/step - accuracy: 0.8513 - loss: 0.3397 - recall_1: 0.8513 - val_accuracy: 0.7843 - val_loss: 0.5484 - val_recall_1: 0.7843\n",
            "Epoch 7/20\n",
            "\u001b[1m13/32\u001b[0m \u001b[32m━━━━━━━━\u001b[0m\u001b[37m━━━━━━━━━━━━\u001b[0m \u001b[1m9s\u001b[0m 505ms/step - accuracy: 0.8338 - loss: 0.3243 - recall_1: 0.8338 \n",
            "Epoch 7: val_loss did not improve from 0.52038\n",
            "\u001b[1m32/32\u001b[0m \u001b[32m━━━━━━━━━━━━━━━━━━━━\u001b[0m\u001b[37m\u001b[0m \u001b[1m10s\u001b[0m 226ms/step - accuracy: 0.8380 - loss: 0.3355 - recall_1: 0.8380 - val_accuracy: 0.7843 - val_loss: 0.5668 - val_recall_1: 0.7843\n",
            "Epoch 8/20\n",
            "\u001b[1m13/32\u001b[0m \u001b[32m━━━━━━━━\u001b[0m\u001b[37m━━━━━━━━━━━━\u001b[0m \u001b[1m10s\u001b[0m 544ms/step - accuracy: 0.8391 - loss: 0.3439 - recall_1: 0.8391\n",
            "Epoch 8: val_loss did not improve from 0.52038\n",
            "\u001b[1m32/32\u001b[0m \u001b[32m━━━━━━━━━━━━━━━━━━━━\u001b[0m\u001b[37m\u001b[0m \u001b[1m8s\u001b[0m 240ms/step - accuracy: 0.8534 - loss: 0.3289 - recall_1: 0.8534 - val_accuracy: 0.8235 - val_loss: 0.6642 - val_recall_1: 0.8235\n",
            "Epoch 9/20\n",
            "\u001b[1m13/32\u001b[0m \u001b[32m━━━━━━━━\u001b[0m\u001b[37m━━━━━━━━━━━━\u001b[0m \u001b[1m10s\u001b[0m 562ms/step - accuracy: 0.8820 - loss: 0.3004 - recall_1: 0.8820\n",
            "Epoch 9: val_loss improved from 0.52038 to 0.49462, saving model to model_weights/vgg19_model_02.weights.h5\n"
          ]
        },
        {
          "name": "stderr",
          "output_type": "stream",
          "text": [
            "WARNING:absl:You are saving your model as an HDF5 file via `model.save()` or `keras.saving.save_model(model)`. This file format is considered legacy. We recommend using instead the native Keras format, e.g. `model.save('my_model.keras')` or `keras.saving.save_model(model, 'my_model.keras')`. \n"
          ]
        },
        {
          "name": "stdout",
          "output_type": "stream",
          "text": [
            "\b\b\b\b\b\b\b\b\b\b\b\b\b\b\b\b\b\b\b\b\b\b\b\b\b\b\b\b\b\b\b\b\b\b\b\b\b\b\b\b\b\b\b\b\b\b\b\b\b\b\b\b\b\b\b\b\b\b\b\b\b\b\b\b\b\b\b\b\b\b\b\b\b\b\b\b\b\b\b\b\b\b\b\b\b\b\b\b\b\b\b\b\b\b\r\u001b[1m32/32\u001b[0m \u001b[32m━━━━━━━━━━━━━━━━━━━━\u001b[0m\u001b[37m\u001b[0m \u001b[1m19s\u001b[0m 595ms/step - accuracy: 0.8841 - loss: 0.2897 - recall_1: 0.8841 - val_accuracy: 0.7843 - val_loss: 0.4946 - val_recall_1: 0.7843\n",
            "Epoch 10/20\n",
            "\u001b[1m13/32\u001b[0m \u001b[32m━━━━━━━━\u001b[0m\u001b[37m━━━━━━━━━━━━\u001b[0m \u001b[1m10s\u001b[0m 559ms/step - accuracy: 0.9139 - loss: 0.2185 - recall_1: 0.9139\n",
            "Epoch 10: val_loss did not improve from 0.49462\n",
            "\u001b[1m32/32\u001b[0m \u001b[32m━━━━━━━━━━━━━━━━━━━━\u001b[0m\u001b[37m\u001b[0m \u001b[1m10s\u001b[0m 257ms/step - accuracy: 0.9000 - loss: 0.2492 - recall_1: 0.9000 - val_accuracy: 0.8431 - val_loss: 0.5891 - val_recall_1: 0.8431\n",
            "Epoch 11/20\n",
            "\u001b[1m13/32\u001b[0m \u001b[32m━━━━━━━━\u001b[0m\u001b[37m━━━━━━━━━━━━\u001b[0m \u001b[1m9s\u001b[0m 515ms/step - accuracy: 0.8570 - loss: 0.3208 - recall_1: 0.8570 \n",
            "Epoch 11: val_loss did not improve from 0.49462\n",
            "\u001b[1m32/32\u001b[0m \u001b[32m━━━━━━━━━━━━━━━━━━━━\u001b[0m\u001b[37m\u001b[0m \u001b[1m8s\u001b[0m 228ms/step - accuracy: 0.8680 - loss: 0.3080 - recall_1: 0.8680 - val_accuracy: 0.8431 - val_loss: 0.5414 - val_recall_1: 0.8431\n",
            "Epoch 12/20\n",
            "\u001b[1m13/32\u001b[0m \u001b[32m━━━━━━━━\u001b[0m\u001b[37m━━━━━━━━━━━━\u001b[0m \u001b[1m10s\u001b[0m 564ms/step - accuracy: 0.9005 - loss: 0.2155 - recall_1: 0.9005\n",
            "Epoch 12: val_loss did not improve from 0.49462\n",
            "\u001b[1m32/32\u001b[0m \u001b[32m━━━━━━━━━━━━━━━━━━━━\u001b[0m\u001b[37m\u001b[0m \u001b[1m11s\u001b[0m 248ms/step - accuracy: 0.8990 - loss: 0.2263 - recall_1: 0.8990 - val_accuracy: 0.8627 - val_loss: 0.5620 - val_recall_1: 0.8627\n",
            "Epoch 13/20\n",
            "\u001b[1m13/32\u001b[0m \u001b[32m━━━━━━━━\u001b[0m\u001b[37m━━━━━━━━━━━━\u001b[0m \u001b[1m10s\u001b[0m 556ms/step - accuracy: 0.8861 - loss: 0.2460 - recall_1: 0.8861\n",
            "Epoch 13: val_loss did not improve from 0.49462\n",
            "\u001b[1m32/32\u001b[0m \u001b[32m━━━━━━━━━━━━━━━━━━━━\u001b[0m\u001b[37m\u001b[0m \u001b[1m10s\u001b[0m 245ms/step - accuracy: 0.8887 - loss: 0.2496 - recall_1: 0.8887 - val_accuracy: 0.7843 - val_loss: 0.6237 - val_recall_1: 0.7843\n",
            "Epoch 14/20\n",
            "\u001b[1m13/32\u001b[0m \u001b[32m━━━━━━━━\u001b[0m\u001b[37m━━━━━━━━━━━━\u001b[0m \u001b[1m9s\u001b[0m 485ms/step - accuracy: 0.8867 - loss: 0.2338 - recall_1: 0.8867 \n",
            "Epoch 14: val_loss improved from 0.49462 to 0.39063, saving model to model_weights/vgg19_model_02.weights.h5\n"
          ]
        },
        {
          "name": "stderr",
          "output_type": "stream",
          "text": [
            "WARNING:absl:You are saving your model as an HDF5 file via `model.save()` or `keras.saving.save_model(model)`. This file format is considered legacy. We recommend using instead the native Keras format, e.g. `model.save('my_model.keras')` or `keras.saving.save_model(model, 'my_model.keras')`. \n"
          ]
        },
        {
          "name": "stdout",
          "output_type": "stream",
          "text": [
            "\b\b\b\b\b\b\b\b\b\b\b\b\b\b\b\b\b\b\b\b\b\b\b\b\b\b\b\b\b\b\b\b\b\b\b\b\b\b\b\b\b\b\b\b\b\b\b\b\b\b\b\b\b\b\b\b\b\b\b\b\b\b\b\b\b\b\b\b\b\b\b\b\b\b\b\b\b\b\b\b\b\b\b\b\b\b\b\b\b\b\b\b\b\r\u001b[1m32/32\u001b[0m \u001b[32m━━━━━━━━━━━━━━━━━━━━\u001b[0m\u001b[37m\u001b[0m \u001b[1m13s\u001b[0m 404ms/step - accuracy: 0.8890 - loss: 0.2304 - recall_1: 0.8890 - val_accuracy: 0.9412 - val_loss: 0.3906 - val_recall_1: 0.9412\n",
            "Epoch 15/20\n",
            "\u001b[1m13/32\u001b[0m \u001b[32m━━━━━━━━\u001b[0m\u001b[37m━━━━━━━━━━━━\u001b[0m \u001b[1m9s\u001b[0m 489ms/step - accuracy: 0.9056 - loss: 0.2258 - recall_1: 0.9056\n",
            "Epoch 15: val_loss did not improve from 0.39063\n",
            "\u001b[1m32/32\u001b[0m \u001b[32m━━━━━━━━━━━━━━━━━━━━\u001b[0m\u001b[37m\u001b[0m \u001b[1m15s\u001b[0m 218ms/step - accuracy: 0.8952 - loss: 0.2450 - recall_1: 0.8952 - val_accuracy: 0.8627 - val_loss: 0.6959 - val_recall_1: 0.8627\n",
            "Epoch 16/20\n",
            "\u001b[1m13/32\u001b[0m \u001b[32m━━━━━━━━\u001b[0m\u001b[37m━━━━━━━━━━━━\u001b[0m \u001b[1m10s\u001b[0m 557ms/step - accuracy: 0.8803 - loss: 0.2810 - recall_1: 0.8803\n",
            "Epoch 16: val_loss did not improve from 0.39063\n",
            "\u001b[1m32/32\u001b[0m \u001b[32m━━━━━━━━━━━━━━━━━━━━\u001b[0m\u001b[37m\u001b[0m \u001b[1m8s\u001b[0m 245ms/step - accuracy: 0.8834 - loss: 0.2709 - recall_1: 0.8834 - val_accuracy: 0.7451 - val_loss: 0.6037 - val_recall_1: 0.7451\n",
            "Epoch 17/20\n",
            "\u001b[1m13/32\u001b[0m \u001b[32m━━━━━━━━\u001b[0m\u001b[37m━━━━━━━━━━━━\u001b[0m \u001b[1m10s\u001b[0m 551ms/step - accuracy: 0.8783 - loss: 0.2867 - recall_1: 0.8783\n",
            "Epoch 17: val_loss did not improve from 0.39063\n",
            "\u001b[1m32/32\u001b[0m \u001b[32m━━━━━━━━━━━━━━━━━━━━\u001b[0m\u001b[37m\u001b[0m \u001b[1m10s\u001b[0m 242ms/step - accuracy: 0.8752 - loss: 0.2771 - recall_1: 0.8752 - val_accuracy: 0.7843 - val_loss: 0.5609 - val_recall_1: 0.7843\n",
            "Epoch 18/20\n",
            "\u001b[1m13/32\u001b[0m \u001b[32m━━━━━━━━\u001b[0m\u001b[37m━━━━━━━━━━━━\u001b[0m \u001b[1m9s\u001b[0m 500ms/step - accuracy: 0.8834 - loss: 0.2563 - recall_1: 0.8834\n",
            "Epoch 18: val_loss did not improve from 0.39063\n",
            "\u001b[1m32/32\u001b[0m \u001b[32m━━━━━━━━━━━━━━━━━━━━\u001b[0m\u001b[37m\u001b[0m \u001b[1m9s\u001b[0m 226ms/step - accuracy: 0.8921 - loss: 0.2394 - recall_1: 0.8921 - val_accuracy: 0.8235 - val_loss: 0.6306 - val_recall_1: 0.8235\n",
            "Epoch 19/20\n",
            "\u001b[1m13/32\u001b[0m \u001b[32m━━━━━━━━\u001b[0m\u001b[37m━━━━━━━━━━━━\u001b[0m \u001b[1m9s\u001b[0m 519ms/step - accuracy: 0.9193 - loss: 0.2036 - recall_1: 0.9193 \n",
            "Epoch 19: val_loss did not improve from 0.39063\n",
            "\u001b[1m32/32\u001b[0m \u001b[32m━━━━━━━━━━━━━━━━━━━━\u001b[0m\u001b[37m\u001b[0m \u001b[1m8s\u001b[0m 230ms/step - accuracy: 0.9170 - loss: 0.1989 - recall_1: 0.9170 - val_accuracy: 0.8431 - val_loss: 0.6824 - val_recall_1: 0.8431\n",
            "Epoch 20/20\n",
            "\u001b[1m13/32\u001b[0m \u001b[32m━━━━━━━━\u001b[0m\u001b[37m━━━━━━━━━━━━\u001b[0m \u001b[1m10s\u001b[0m 559ms/step - accuracy: 0.9115 - loss: 0.2065 - recall_1: 0.9115\n",
            "Epoch 20: val_loss did not improve from 0.39063\n",
            "\u001b[1m32/32\u001b[0m \u001b[32m━━━━━━━━━━━━━━━━━━━━\u001b[0m\u001b[37m\u001b[0m \u001b[1m10s\u001b[0m 246ms/step - accuracy: 0.9020 - loss: 0.2193 - recall_1: 0.9020 - val_accuracy: 0.8431 - val_loss: 0.5882 - val_recall_1: 0.8431\n"
          ]
        }
      ],
      "source": [
        "from tensorflow.keras.applications import VGG19\n",
        "from tensorflow.keras.layers import Dense, Flatten, Dropout\n",
        "from tensorflow.keras.models import Model\n",
        "from tensorflow.keras.optimizers import Adam\n",
        "from tensorflow.keras.metrics import Recall\n",
        "from tensorflow.keras.callbacks import ModelCheckpoint\n",
        "\n",
        "# Best Hyperparameters from Optuna\n",
        "best_lr = 2.8706295492775003e-05\n",
        "best_dropout = 0.6\n",
        "best_dense_1 = 3584\n",
        "best_dense_2 = 1024\n",
        "\n",
        "# Load VGG19 base model\n",
        "base_model = VGG19(input_shape=(240, 240, 3), include_top=False, weights='imagenet')\n",
        "\n",
        "# Add Custom Top Layers for Model_02\n",
        "x = Flatten()(base_model.output)\n",
        "x = Dense(best_dense_1, activation='relu')(x)\n",
        "x = Dropout(best_dropout)(x)\n",
        "x = Dense(best_dense_2, activation='relu')(x)\n",
        "output = Dense(2, activation='softmax')(x)\n",
        "\n",
        "model_02 = Model(inputs=base_model.input, outputs=output)\n",
        "\n",
        "# Load pre-trained weights from Model_01\n",
        "model_02.load_weights('model_weights/vgg19_model_01.weights.h5')\n",
        "\n",
        "# ✅ Unfreeze only specific layers for fine-tuning\n",
        "for layer in model_02.layers:\n",
        "    if layer.name in ['block5_conv1', 'block5_conv2', 'block5_conv3', 'block5_conv4']:\n",
        "        layer.trainable = True\n",
        "    else:\n",
        "        layer.trainable = False\n",
        "\n",
        "# Compile model using Adam optimizer and best learning rate\n",
        "adam = Adam(learning_rate=best_lr)\n",
        "model_02.compile(loss='categorical_crossentropy', optimizer=adam, metrics=['accuracy', Recall()])\n",
        "\n",
        "model_02.summary()\n",
        "\n",
        "# ModelCheckpoint callback\n",
        "cp = ModelCheckpoint(\n",
        "    'model_weights/vgg19_model_02.weights.h5',\n",
        "    save_best_only=True,\n",
        "    monitor='val_loss',\n",
        "    mode='min',\n",
        "    verbose=1\n",
        ")\n",
        "\n",
        "# Train Model_02\n",
        "history_02 = model_02.fit(\n",
        "    train_generator,\n",
        "    steps_per_epoch=32,\n",
        "    epochs=20,\n",
        "    validation_data=valid_generator,\n",
        "    callbacks=[cp]\n",
        ")"
      ]
    },
    {
      "cell_type": "code",
      "execution_count": 40,
      "metadata": {
        "id": "VW7aIJZVLdqT"
      },
      "outputs": [],
      "source": [
        "if not os.path.isdir('model_weights/'):\n",
        "    os.mkdir('model_weights/')\n",
        "model_02.save_weights(filepath=\"model_weights/vgg19_model_02.weights.h5\", overwrite=True)"
      ]
    },
    {
      "cell_type": "code",
      "execution_count": 41,
      "metadata": {
        "colab": {
          "base_uri": "https://localhost:8080/"
        },
        "id": "c_Hef3_YNiWO",
        "outputId": "79421556-f8c4-4e8f-c67f-6ab5fbeb52e5"
      },
      "outputs": [
        {
          "name": "stdout",
          "output_type": "stream",
          "text": [
            "\u001b[1m2/2\u001b[0m \u001b[32m━━━━━━━━━━━━━━━━━━━━\u001b[0m\u001b[37m\u001b[0m \u001b[1m1s\u001b[0m 268ms/step - accuracy: 0.8538 - loss: 0.4982 - recall_1: 0.8538\n",
            "\u001b[1m2/2\u001b[0m \u001b[32m━━━━━━━━━━━━━━━━━━━━\u001b[0m\u001b[37m\u001b[0m \u001b[1m1s\u001b[0m 681ms/step - accuracy: 0.8287 - loss: 0.3566 - recall_1: 0.8287\n"
          ]
        }
      ],
      "source": [
        "model_02.load_weights(\"model_weights/vgg19_model_02.weights.h5\")\n",
        "vgg_val_eval_02 = model_02.evaluate(valid_generator)\n",
        "vgg_test_eval_02 = model_02.evaluate(test_generator)"
      ]
    },
    {
      "cell_type": "code",
      "execution_count": 42,
      "metadata": {
        "id": "sA1JotNcNkZH"
      },
      "outputs": [],
      "source": [
        "#unfreezing the entire network"
      ]
    },
    {
      "cell_type": "code",
      "execution_count": 43,
      "metadata": {
        "colab": {
          "base_uri": "https://localhost:8080/"
        },
        "id": "UudzrH1dNrS4",
        "outputId": "51932cca-2e07-4392-da57-c39ad07ea7d6"
      },
      "outputs": [
        {
          "name": "stdout",
          "output_type": "stream",
          "text": [
            "Epoch 1/20\n",
            "\u001b[1m32/32\u001b[0m \u001b[32m━━━━━━━━━━━━━━━━━━━━\u001b[0m\u001b[37m\u001b[0m \u001b[1m37s\u001b[0m 978ms/step - accuracy: 0.8769 - loss: 0.4201 - recall: 0.8769 - val_accuracy: 0.8824 - val_loss: 0.5185 - val_recall: 0.8824 - learning_rate: 2.8706e-05\n",
            "Epoch 2/20\n",
            "\u001b[1m32/32\u001b[0m \u001b[32m━━━━━━━━━━━━━━━━━━━━\u001b[0m\u001b[37m\u001b[0m \u001b[1m20s\u001b[0m 594ms/step - accuracy: 0.8995 - loss: 0.3677 - recall: 0.8995 - val_accuracy: 0.8627 - val_loss: 0.5102 - val_recall: 0.8627 - learning_rate: 2.8706e-05\n",
            "Epoch 3/20\n",
            "\u001b[1m32/32\u001b[0m \u001b[32m━━━━━━━━━━━━━━━━━━━━\u001b[0m\u001b[37m\u001b[0m \u001b[1m9s\u001b[0m 251ms/step - accuracy: 0.9055 - loss: 0.3576 - recall: 0.9055 - val_accuracy: 0.8235 - val_loss: 0.5356 - val_recall: 0.8235 - learning_rate: 2.8706e-05\n",
            "Epoch 4/20\n",
            "\u001b[1m32/32\u001b[0m \u001b[32m━━━━━━━━━━━━━━━━━━━━\u001b[0m\u001b[37m\u001b[0m \u001b[1m27s\u001b[0m 798ms/step - accuracy: 0.9384 - loss: 0.3363 - recall: 0.9384 - val_accuracy: 0.8431 - val_loss: 0.4875 - val_recall: 0.8431 - learning_rate: 2.8706e-05\n",
            "Epoch 5/20\n",
            "\u001b[1m32/32\u001b[0m \u001b[32m━━━━━━━━━━━━━━━━━━━━\u001b[0m\u001b[37m\u001b[0m \u001b[1m22s\u001b[0m 687ms/step - accuracy: 0.9305 - loss: 0.3187 - recall: 0.9305 - val_accuracy: 0.8824 - val_loss: 0.4650 - val_recall: 0.8824 - learning_rate: 2.8706e-05\n",
            "Epoch 6/20\n",
            "\u001b[1m32/32\u001b[0m \u001b[32m━━━━━━━━━━━━━━━━━━━━\u001b[0m\u001b[37m\u001b[0m \u001b[1m26s\u001b[0m 220ms/step - accuracy: 0.9405 - loss: 0.3140 - recall: 0.9405 - val_accuracy: 0.9020 - val_loss: 0.4903 - val_recall: 0.9020 - learning_rate: 2.8706e-05\n",
            "Epoch 7/20\n",
            "\u001b[1m32/32\u001b[0m \u001b[32m━━━━━━━━━━━━━━━━━━━━\u001b[0m\u001b[37m\u001b[0m \u001b[1m9s\u001b[0m 282ms/step - accuracy: 0.9590 - loss: 0.2976 - recall: 0.9590 - val_accuracy: 0.9020 - val_loss: 0.5084 - val_recall: 0.9020 - learning_rate: 2.8706e-05\n",
            "Epoch 8/20\n",
            "\u001b[1m32/32\u001b[0m \u001b[32m━━━━━━━━━━━━━━━━━━━━\u001b[0m\u001b[37m\u001b[0m \u001b[1m9s\u001b[0m 280ms/step - accuracy: 0.9257 - loss: 0.3256 - recall: 0.9257 - val_accuracy: 0.8627 - val_loss: 0.5191 - val_recall: 0.8627 - learning_rate: 2.8706e-05\n",
            "Epoch 9/20\n",
            "\u001b[1m32/32\u001b[0m \u001b[32m━━━━━━━━━━━━━━━━━━━━\u001b[0m\u001b[37m\u001b[0m \u001b[1m8s\u001b[0m 220ms/step - accuracy: 0.9239 - loss: 0.3340 - recall: 0.9239 - val_accuracy: 0.8824 - val_loss: 0.5102 - val_recall: 0.8824 - learning_rate: 2.8706e-06\n",
            "Epoch 10/20\n",
            "\u001b[1m32/32\u001b[0m \u001b[32m━━━━━━━━━━━━━━━━━━━━\u001b[0m\u001b[37m\u001b[0m \u001b[1m8s\u001b[0m 246ms/step - accuracy: 0.9420 - loss: 0.3128 - recall: 0.9420 - val_accuracy: 0.8627 - val_loss: 0.4778 - val_recall: 0.8627 - learning_rate: 2.8706e-06\n",
            "Epoch 11/20\n",
            "\u001b[1m32/32\u001b[0m \u001b[32m━━━━━━━━━━━━━━━━━━━━\u001b[0m\u001b[37m\u001b[0m \u001b[1m8s\u001b[0m 246ms/step - accuracy: 0.9572 - loss: 0.2951 - recall: 0.9572 - val_accuracy: 0.8431 - val_loss: 0.4840 - val_recall: 0.8431 - learning_rate: 2.8706e-06\n",
            "Epoch 12/20\n",
            "\u001b[1m32/32\u001b[0m \u001b[32m━━━━━━━━━━━━━━━━━━━━\u001b[0m\u001b[37m\u001b[0m \u001b[1m8s\u001b[0m 222ms/step - accuracy: 0.9559 - loss: 0.2986 - recall: 0.9559 - val_accuracy: 0.8627 - val_loss: 0.5184 - val_recall: 0.8627 - learning_rate: 2.8706e-07\n",
            "Epoch 13/20\n",
            "\u001b[1m32/32\u001b[0m \u001b[32m━━━━━━━━━━━━━━━━━━━━\u001b[0m\u001b[37m\u001b[0m \u001b[1m28s\u001b[0m 774ms/step - accuracy: 0.9613 - loss: 0.2889 - recall: 0.9613 - val_accuracy: 0.9216 - val_loss: 0.4325 - val_recall: 0.9216 - learning_rate: 2.8706e-07\n",
            "Epoch 14/20\n",
            "\u001b[1m32/32\u001b[0m \u001b[32m━━━━━━━━━━━━━━━━━━━━\u001b[0m\u001b[37m\u001b[0m \u001b[1m8s\u001b[0m 220ms/step - accuracy: 0.9360 - loss: 0.3210 - recall: 0.9360 - val_accuracy: 0.9020 - val_loss: 0.4526 - val_recall: 0.9020 - learning_rate: 2.8706e-07\n",
            "Epoch 15/20\n",
            "\u001b[1m32/32\u001b[0m \u001b[32m━━━━━━━━━━━━━━━━━━━━\u001b[0m\u001b[37m\u001b[0m \u001b[1m11s\u001b[0m 239ms/step - accuracy: 0.9653 - loss: 0.2841 - recall: 0.9653 - val_accuracy: 0.8824 - val_loss: 0.4814 - val_recall: 0.8824 - learning_rate: 2.8706e-07\n",
            "Epoch 16/20\n",
            "\u001b[1m32/32\u001b[0m \u001b[32m━━━━━━━━━━━━━━━━━━━━\u001b[0m\u001b[37m\u001b[0m \u001b[1m25s\u001b[0m 769ms/step - accuracy: 0.9533 - loss: 0.2995 - recall: 0.9533 - val_accuracy: 0.9020 - val_loss: 0.4203 - val_recall: 0.9020 - learning_rate: 2.8706e-07\n",
            "Epoch 17/20\n",
            "\u001b[1m32/32\u001b[0m \u001b[32m━━━━━━━━━━━━━━━━━━━━\u001b[0m\u001b[37m\u001b[0m \u001b[1m24s\u001b[0m 222ms/step - accuracy: 0.9565 - loss: 0.2878 - recall: 0.9565 - val_accuracy: 0.8431 - val_loss: 0.4593 - val_recall: 0.8431 - learning_rate: 2.8706e-07\n",
            "Epoch 18/20\n",
            "\u001b[1m32/32\u001b[0m \u001b[32m━━━━━━━━━━━━━━━━━━━━\u001b[0m\u001b[37m\u001b[0m \u001b[1m8s\u001b[0m 247ms/step - accuracy: 0.9631 - loss: 0.2838 - recall: 0.9631 - val_accuracy: 0.8039 - val_loss: 0.6011 - val_recall: 0.8039 - learning_rate: 2.8706e-07\n",
            "Epoch 19/20\n",
            "\u001b[1m32/32\u001b[0m \u001b[32m━━━━━━━━━━━━━━━━━━━━\u001b[0m\u001b[37m\u001b[0m \u001b[1m10s\u001b[0m 248ms/step - accuracy: 0.9440 - loss: 0.3012 - recall: 0.9440 - val_accuracy: 0.8627 - val_loss: 0.4766 - val_recall: 0.8627 - learning_rate: 2.8706e-07\n",
            "Epoch 20/20\n",
            "\u001b[1m32/32\u001b[0m \u001b[32m━━━━━━━━━━━━━━━━━━━━\u001b[0m\u001b[37m\u001b[0m \u001b[1m10s\u001b[0m 256ms/step - accuracy: 0.9611 - loss: 0.2855 - recall: 0.9611 - val_accuracy: 0.8627 - val_loss: 0.4523 - val_recall: 0.8627 - learning_rate: 2.8706e-08\n"
          ]
        }
      ],
      "source": [
        "import tensorflow as tf\n",
        "from tensorflow.keras.applications import VGG19\n",
        "from tensorflow.keras.models import Model\n",
        "from tensorflow.keras.layers import Dense, Flatten, Dropout\n",
        "from tensorflow.keras.optimizers import Adam\n",
        "from tensorflow.keras.metrics import Recall\n",
        "from tensorflow.keras.callbacks import ModelCheckpoint, ReduceLROnPlateau\n",
        "from tensorflow.keras.losses import CategoricalCrossentropy\n",
        "\n",
        "# Best Hyperparameters from Optuna\n",
        "best_lr = 2.8706295492775003e-05\n",
        "best_dropout = 0.6\n",
        "best_dense_1 = 3584\n",
        "best_dense_2 = 1024\n",
        "\n",
        "# Load base model\n",
        "base_model = VGG19(include_top=False, input_shape=(240, 240, 3))\n",
        "\n",
        "# Add custom layers\n",
        "x = base_model.output\n",
        "x = Flatten()(x)\n",
        "x = Dense(best_dense_1, activation='relu')(x)\n",
        "x = Dropout(best_dropout)(x)\n",
        "x = Dense(best_dense_2, activation='relu')(x)\n",
        "output = Dense(2, activation='softmax')(x)\n",
        "\n",
        "# Create final model\n",
        "model_03 = Model(inputs=base_model.input, outputs=output)\n",
        "\n",
        "# Load weights from Model 02\n",
        "model_03.load_weights('model_weights/vgg19_model_02.weights.h5')\n",
        "\n",
        "# Unfreeze block5 layers only\n",
        "set_trainable = False\n",
        "for layer in model_03.layers:\n",
        "    if layer.name in ['block5_conv1', 'block5_conv2', 'block5_conv3', 'block5_pool']:\n",
        "        set_trainable = True\n",
        "    layer.trainable = set_trainable\n",
        "\n",
        "# Compile model\n",
        "adam = Adam(learning_rate=best_lr)\n",
        "loss_fn = CategoricalCrossentropy(label_smoothing=0.1)\n",
        "model_03.compile(loss=loss_fn, optimizer=adam, metrics=['accuracy', Recall(name='recall')])\n",
        "\n",
        "# Callbacks\n",
        "checkpoint = ModelCheckpoint(\"model_weights/vgg19_model_03.weights.h5\", save_best_only=True, save_weights_only=True)\n",
        "reduce_lr = ReduceLROnPlateau(monitor='val_loss', factor=0.1, patience=3)\n",
        "\n",
        "# Train model\n",
        "history_03 = model_03.fit(\n",
        "    train_generator,\n",
        "    steps_per_epoch=32,\n",
        "    epochs=20,\n",
        "    validation_data=valid_generator,\n",
        "    callbacks=[checkpoint,reduce_lr]\n",
        ")"
      ]
    },
    {
      "cell_type": "code",
      "execution_count": 44,
      "metadata": {
        "id": "CK7-70NrNxGq"
      },
      "outputs": [],
      "source": [
        "if not os.path.isdir('model_weights/'):\n",
        "    os.mkdir('model_weights/vgg_unfrozen.h5')\n",
        "model_03.save_weights(filepath=\"model_weights/vgg19_unfrozen.weights.h5\", overwrite=True)"
      ]
    },
    {
      "cell_type": "code",
      "execution_count": 45,
      "metadata": {
        "colab": {
          "base_uri": "https://localhost:8080/"
        },
        "id": "o6RfOJOXOlsY",
        "outputId": "4dc599c4-eaea-476e-d7fe-389c64ff7579"
      },
      "outputs": [
        {
          "name": "stdout",
          "output_type": "stream",
          "text": [
            "\u001b[1m2/2\u001b[0m \u001b[32m━━━━━━━━━━━━━━━━━━━━\u001b[0m\u001b[37m\u001b[0m \u001b[1m1s\u001b[0m 247ms/step - accuracy: 0.8799 - loss: 0.4736 - recall: 0.8799\n",
            "\u001b[1m2/2\u001b[0m \u001b[32m━━━━━━━━━━━━━━━━━━━━\u001b[0m\u001b[37m\u001b[0m \u001b[1m2s\u001b[0m 1s/step - accuracy: 0.9520 - loss: 0.2816 - recall: 0.9520\n"
          ]
        }
      ],
      "source": [
        "model_03.load_weights(\"model_weights/vgg19_unfrozen.weights.h5\")\n",
        "vgg_val_eval_03 = model_03.evaluate(valid_generator)\n",
        "vgg_test_eval_03 = model_03.evaluate(test_generator)"
      ]
    },
    {
      "cell_type": "code",
      "execution_count": 46,
      "metadata": {
        "colab": {
          "base_uri": "https://localhost:8080/"
        },
        "id": "FRKkh18UPFFW",
        "outputId": "795efc42-51cc-46df-80e3-fe59fccd1992"
      },
      "outputs": [
        {
          "name": "stderr",
          "output_type": "stream",
          "text": [
            "WARNING:absl:You are saving your model as an HDF5 file via `model.save()` or `keras.saving.save_model(model)`. This file format is considered legacy. We recommend using instead the native Keras format, e.g. `model.save('my_model.keras')` or `keras.saving.save_model(model, 'my_model.keras')`. \n"
          ]
        }
      ],
      "source": [
        "from tensorflow.keras.models import load_model\n",
        "import os\n",
        "\n",
        "# Ensure directory exists\n",
        "if not os.path.isdir('model_weights/'):\n",
        "    os.mkdir('model_weights/')\n",
        "\n",
        "# Save the entire model along with weights\n",
        "model_03.save(\"model_weights/vgg19_model_03.h5\", overwrite=True)\n",
        "\n"
      ]
    },
    {
      "cell_type": "code",
      "execution_count": null,
      "metadata": {
        "id": "YOgjP08gPTAd"
      },
      "outputs": [],
      "source": []
    }
  ],
  "metadata": {
    "accelerator": "GPU",
    "colab": {
      "gpuType": "T4",
      "provenance": []
    },
    "kernelspec": {
      "display_name": "Python 3",
      "name": "python3"
    },
    "language_info": {
      "name": "python"
    }
  },
  "nbformat": 4,
  "nbformat_minor": 0
}
